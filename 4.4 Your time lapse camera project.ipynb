{
 "cells": [
  {
   "cell_type": "markdown",
   "id": "d3a3a714-349c-4f1e-a9ac-732e3546dcc1",
   "metadata": {},
   "source": [
    "# Your time lapse camera project"
   ]
  },
  {
   "cell_type": "markdown",
   "id": "98d870e7-b692-49dc-8317-d4b4abf80871",
   "metadata": {},
   "source": [
    "In this lesson, you will learn:\n",
    "\n",
    "1. Create your time lapse camera project\n",
    "\n",
    "Put the camera in an interesting position and set a reasonable delay. Capture the image and create a gif.\n",
    "\n",
    "Ideas:\n",
    "- Busy city street during rush hour.\n",
    "- Clouds moving across the sky.\n",
    "- Flower blooming from bud to full bloom.\n",
    "- Sunrise or sunset over a picturesque landscape."
   ]
  },
  {
   "cell_type": "markdown",
   "id": "29121013-2c6c-4033-9c89-114509f58234",
   "metadata": {},
   "source": [
    "## Clean the camera_output folder\n",
    "\n",
    "You may want to clean the camera_output folder before creating your project."
   ]
  },
  {
   "cell_type": "code",
   "execution_count": 1,
   "id": "bd99a932-9f06-44f4-a733-21a60cb677c5",
   "metadata": {},
   "outputs": [],
   "source": [
    "rm camera_output/*"
   ]
  },
  {
   "cell_type": "markdown",
   "id": "54125824-9699-4136-96f8-ef40818df1dc",
   "metadata": {},
   "source": [
    "## Start Capturing\n",
    "\n",
    "1. Put your camera to a desired position\n",
    "2. Adjust the time.sleep parameter\n",
    "3. Start the program"
   ]
  },
  {
   "cell_type": "code",
   "execution_count": 2,
   "id": "bda06a77-823e-41ce-8ffa-72989f43eebd",
   "metadata": {},
   "outputs": [
    {
     "ename": "NameError",
     "evalue": "name 'capture_image' is not defined",
     "output_type": "error",
     "traceback": [
      "\u001b[0;31m---------------------------------------------------------------------------\u001b[0m",
      "\u001b[0;31mNameError\u001b[0m                                 Traceback (most recent call last)",
      "Cell \u001b[0;32mIn[2], line 8\u001b[0m\n\u001b[1;32m      5\u001b[0m \u001b[38;5;66;03m# Start the camera\u001b[39;00m\n\u001b[1;32m      6\u001b[0m cap \u001b[38;5;241m=\u001b[39m cv2\u001b[38;5;241m.\u001b[39mVideoCapture(\u001b[38;5;241m0\u001b[39m)\n\u001b[0;32m----> 8\u001b[0m \u001b[43mcapture_image\u001b[49m(cap, \u001b[38;5;124m\"\u001b[39m\u001b[38;5;124m1.jpg\u001b[39m\u001b[38;5;124m\"\u001b[39m)\n\u001b[1;32m      9\u001b[0m time\u001b[38;5;241m.\u001b[39msleep(\u001b[38;5;241m10\u001b[39m)\n\u001b[1;32m     10\u001b[0m capture_image(cap, \u001b[38;5;124m\"\u001b[39m\u001b[38;5;124m2.jpg\u001b[39m\u001b[38;5;124m\"\u001b[39m)\n",
      "\u001b[0;31mNameError\u001b[0m: name 'capture_image' is not defined"
     ]
    }
   ],
   "source": [
    "import cv2\n",
    "import time\n",
    "from IPython.display import display, Image\n",
    "\n",
    "# Start the camera\n",
    "cap = cv2.VideoCapture(0)\n",
    "\n",
    "capture_image(cap, \"1.jpg\")\n",
    "time.sleep(10)\n",
    "capture_image(cap, \"2.jpg\")\n",
    "\n",
    "# Release the camera\n",
    "cap.release()"
   ]
  },
  {
   "cell_type": "markdown",
   "id": "7119908c-219c-4b1f-bd53-56ba691982bf",
   "metadata": {},
   "source": [
    "We now have a lot of images in our camera folder"
   ]
  },
  {
   "cell_type": "code",
   "execution_count": null,
   "id": "e7920865-b79b-4094-82bb-5b3e6cceedff",
   "metadata": {},
   "outputs": [],
   "source": [
    "!ls camera_output"
   ]
  },
  {
   "cell_type": "markdown",
   "id": "62d8e457-c586-4ef7-bc26-ff80db1ad6d8",
   "metadata": {},
   "source": [
    "But they are static images. Do you know what a gif image is? Here is a sample\n",
    "\n",
    "<img src=\"images/gif_sample_shibu_meme.webp\" />"
   ]
  },
  {
   "cell_type": "markdown",
   "id": "49a9b3c5-844a-43e7-bdcf-2a00b77d0efe",
   "metadata": {},
   "source": [
    "We can use a command named `ffmpeg` to create a gif using the images we capture\n",
    "\n",
    "Read this website if you have time:\n",
    "[How to Make GIFs from Images Using FFmpeg](https://www.bannerbear.com/blog/how-to-make-gifs-from-images-using-ffmpeg/)"
   ]
  },
  {
   "cell_type": "code",
   "execution_count": null,
   "id": "a86ba025-a699-4157-8ed8-1de0c925d6ad",
   "metadata": {},
   "outputs": [],
   "source": [
    "!ffmpeg -y -loglevel 0 -i camera_output/%d.jpg output.gif"
   ]
  },
  {
   "cell_type": "markdown",
   "id": "5c2df7d8-d698-430f-babc-954fa3447ac8",
   "metadata": {},
   "source": [
    "### Show the result"
   ]
  },
  {
   "cell_type": "code",
   "execution_count": null,
   "id": "0200e91e-e203-4982-8969-db713a89de4a",
   "metadata": {},
   "outputs": [],
   "source": [
    "Image(filename=\"output.gif\")"
   ]
  },
  {
   "cell_type": "markdown",
   "id": "9dbb4ae3-dd06-4d44-a194-a0eaa7bb5f50",
   "metadata": {},
   "source": [
    "## Project: A better time lapse photo"
   ]
  },
  {
   "cell_type": "markdown",
   "id": "a9e59db2-8475-457b-918c-9cf6b0ba6fff",
   "metadata": {},
   "source": [
    "Put the camera in an interesting position and set a reasonable delay. Capture the image and create a gif.\n",
    "\n",
    "Ideas:\n",
    "- Busy city street during rush hour.\n",
    "- Clouds moving across the sky.\n",
    "- Flower blooming from bud to full bloom.\n",
    "- Sunrise or sunset over a picturesque landscape.\n"
   ]
  }
 ],
 "metadata": {
  "kernelspec": {
   "display_name": "Python 3 (ipykernel)",
   "language": "python",
   "name": "python3"
  },
  "language_info": {
   "codemirror_mode": {
    "name": "ipython",
    "version": 3
   },
   "file_extension": ".py",
   "mimetype": "text/x-python",
   "name": "python",
   "nbconvert_exporter": "python",
   "pygments_lexer": "ipython3",
   "version": "3.9.2"
  }
 },
 "nbformat": 4,
 "nbformat_minor": 5
}
