{
 "cells": [
  {
   "cell_type": "markdown",
   "id": "8513baff-cafb-4967-87cf-7f9f03072744",
   "metadata": {},
   "source": [
    "<img src=\"https://10botics.com/logo_jnb.png\" width=\"300\"/>"
   ]
  },
  {
   "cell_type": "markdown",
   "id": "d3a3a714-349c-4f1e-a9ac-732e3546dcc1",
   "metadata": {},
   "source": [
    "# Save camera image to disk"
   ]
  },
  {
   "cell_type": "markdown",
   "id": "98d870e7-b692-49dc-8317-d4b4abf80871",
   "metadata": {},
   "source": [
    "In this lesson, you will learn:\n",
    "\n",
    "1. Save the image to disk\n",
    "2. Write a program to capture multiple images\n",
    "3. Add delay between capture using `time.sleep`\n",
    "4. Learn to use for loop\n",
    "5. Use ffmpeg to create a animated gif\n",
    "6. Project - A better time lapse photo"
   ]
  },
  {
   "cell_type": "markdown",
   "id": "8f53c766-d993-443b-9f40-e5fffefae759",
   "metadata": {},
   "source": [
    "## Define a function to capture a frame\n",
    "\n",
    "Let's define this function to help us easier to capture an image"
   ]
  },
  {
   "cell_type": "markdown",
   "id": "d1f622c7-3dc8-49dc-9bdd-794746fd6487",
   "metadata": {},
   "source": [
    "### Define a function"
   ]
  },
  {
   "cell_type": "code",
   "execution_count": 2,
   "id": "b49786eb-c595-4104-8e01-51fbb429f1fc",
   "metadata": {},
   "outputs": [],
   "source": [
    "def capture_image(cap, filename):\n",
    "    # Capture a single frame\n",
    "    ret, frame = cap.read()\n",
    "    \n",
    "    # Save the captured image\n",
    "    if ret:\n",
    "        flipped_frame = cv2.flip(frame, 0)\n",
    "        cv2.imwrite(f\"camera_output/{filename}\", flipped_frame) # Write this image to disk\n",
    "        print(f\"{filename} saved\")"
   ]
  },
  {
   "cell_type": "markdown",
   "id": "3d24e259-f6ff-4c04-9ffa-150abecf4e74",
   "metadata": {},
   "source": [
    "### Create the directory to store image"
   ]
  },
  {
   "cell_type": "code",
   "execution_count": null,
   "id": "b977c4e4-10a9-44c8-981a-3c707621348e",
   "metadata": {},
   "outputs": [],
   "source": [
    "!mkdir -p camera_output"
   ]
  },
  {
   "cell_type": "markdown",
   "id": "029a819d-1ce1-42cd-abab-0229eeea4012",
   "metadata": {},
   "source": [
    "## Capture multiple images"
   ]
  },
  {
   "cell_type": "markdown",
   "id": "a82026a6-874f-4cae-8499-b75b85c9b473",
   "metadata": {},
   "source": [
    "### Task: Modify the code below to capture 5 images."
   ]
  },
  {
   "cell_type": "code",
   "execution_count": 3,
   "id": "a38bf244-a7cc-4411-8222-d0af8313b9e5",
   "metadata": {},
   "outputs": [],
   "source": [
    "import cv2\n",
    "from IPython.display import display, Image\n",
    "\n",
    "# Start the camera\n",
    "cap = cv2.VideoCapture(0)\n",
    "\n",
    "capture_image(cap, \"1.jpg\")\n",
    "\n",
    "# Release the camera\n",
    "cap.release()"
   ]
  },
  {
   "cell_type": "markdown",
   "id": "3170318b-988c-4624-b3f2-2978094e2be8",
   "metadata": {},
   "source": [
    "Note:\n",
    "- The images are stored in the folder named `camera_output`"
   ]
  },
  {
   "cell_type": "markdown",
   "id": "1d56b066-ad1c-414f-a5b6-6dda2e4d5368",
   "metadata": {
    "jp-MarkdownHeadingCollapsed": true
   },
   "source": [
    "### Answer"
   ]
  },
  {
   "cell_type": "code",
   "execution_count": null,
   "id": "b23dd896-ba36-4d71-8da7-a6b943eab498",
   "metadata": {},
   "outputs": [],
   "source": [
    "import cv2\n",
    "from IPython.display import display, Image\n",
    "\n",
    "# Start the camera\n",
    "cap = cv2.VideoCapture(0)\n",
    "\n",
    "capture_image(cap, \"1.jpg\")\n",
    "capture_image(cap, \"2.jpg\")\n",
    "capture_image(cap, \"3.jpg\")\n",
    "capture_image(cap, \"4.jpg\")\n",
    "capture_image(cap, \"5.jpg\")\n",
    "\n",
    "# Release the camera\n",
    "cap.release()"
   ]
  },
  {
   "cell_type": "markdown",
   "id": "91f47474-d27d-4098-af44-f64ea88d2977",
   "metadata": {},
   "source": [
    "## Take a picture every 10 seconds"
   ]
  },
  {
   "cell_type": "markdown",
   "id": "2e41eb3c-ae89-4b67-84fd-f246f585b7b9",
   "metadata": {},
   "source": [
    "- Right now the program take a series of pictures without delay.\n",
    "- What if we want it to wait 10 seconds before taking the next one?\n",
    "- How do we create a delay between the calls to `capture_image` function?"
   ]
  },
  {
   "cell_type": "markdown",
   "id": "b7d4cfa1-f598-4ecc-9e3e-94ff70750777",
   "metadata": {},
   "source": [
    "### 1. The sleep function"
   ]
  },
  {
   "cell_type": "markdown",
   "id": "e5a95a59-a44b-4bfc-9a06-37f30a68b77e",
   "metadata": {},
   "source": [
    "- There is a function in python called `time.sleep(n)`. \n",
    "- The program will sleep for n seconds before it moves to the next line"
   ]
  },
  {
   "cell_type": "markdown",
   "id": "25322252-de85-42e2-9e73-afa6369760a4",
   "metadata": {},
   "source": [
    "#### Example\n",
    "The following program will say \"hello\", wait 1 second, then say \"hello again\""
   ]
  },
  {
   "cell_type": "code",
   "execution_count": null,
   "id": "6eff6412-3f45-4048-8ab7-a7b0acb3091a",
   "metadata": {},
   "outputs": [],
   "source": [
    "import time\n",
    "\n",
    "print(\"hello\")\n",
    "time.sleep(1)\n",
    "print(\"hello again\")"
   ]
  },
  {
   "cell_type": "markdown",
   "id": "69d2dc70-fa5f-4a7d-a7d8-c7c686eb5799",
   "metadata": {},
   "source": [
    "#### Exercise\n",
    "\n",
    "Modify the following program to `wait 5 seconds` before saying \"hello again\""
   ]
  },
  {
   "cell_type": "code",
   "execution_count": null,
   "id": "e40486d3-cde1-4f3d-8a77-a3c7cec9b70c",
   "metadata": {},
   "outputs": [],
   "source": [
    "import time\n",
    "\n",
    "print(\"hello\")\n",
    "time.sleep(1)\n",
    "print(\"hello again\")"
   ]
  },
  {
   "cell_type": "markdown",
   "id": "52d0fd62-0e61-432d-b1ec-1781c9665a01",
   "metadata": {},
   "source": [
    "#### Answer"
   ]
  },
  {
   "cell_type": "code",
   "execution_count": null,
   "id": "4e871c41-f79b-4808-91b5-820fbf438964",
   "metadata": {},
   "outputs": [],
   "source": [
    "import time\n",
    "\n",
    "print(\"hello\")\n",
    "time.sleep(5)\n",
    "print(\"hello again\")"
   ]
  },
  {
   "cell_type": "markdown",
   "id": "5c9d2f57-c524-4329-9c56-b0c92e74e56c",
   "metadata": {},
   "source": [
    "### 2. Add time delay to our camera program\n",
    "\n",
    "- Import the time library\n",
    "- Add a **10 seconds delay** between the 1st and 2nd pictures"
   ]
  },
  {
   "cell_type": "code",
   "execution_count": null,
   "id": "618d6be0-4818-46c9-aa1e-971063a42e40",
   "metadata": {},
   "outputs": [],
   "source": [
    "import cv2\n",
    "from IPython.display import display, Image\n",
    "\n",
    "# Start the camera\n",
    "cap = cv2.VideoCapture(0)\n",
    "\n",
    "capture_image(cap, \"1.jpg\")\n",
    "capture_image(cap, \"2.jpg\")\n",
    "\n",
    "# Release the camera\n",
    "cap.release()"
   ]
  },
  {
   "cell_type": "markdown",
   "id": "493c0efb-5da0-4c9a-8578-b5766b794dd5",
   "metadata": {
    "jp-MarkdownHeadingCollapsed": true
   },
   "source": [
    "#### Answer"
   ]
  },
  {
   "cell_type": "code",
   "execution_count": null,
   "id": "4d37981e-b3f9-4252-b874-3bc6ac1ae4fe",
   "metadata": {},
   "outputs": [],
   "source": [
    "import cv2\n",
    "import time\n",
    "from IPython.display import display, Image\n",
    "\n",
    "# Start the camera\n",
    "cap = cv2.VideoCapture(0)\n",
    "\n",
    "capture_image(cap, \"1.jpg\")\n",
    "time.sleep(10)\n",
    "capture_image(cap, \"2.jpg\")\n",
    "\n",
    "# Release the camera\n",
    "cap.release()"
   ]
  },
  {
   "cell_type": "markdown",
   "id": "fd73624a-3f7a-4333-9105-9a48ef0ccbe6",
   "metadata": {},
   "source": [
    "## For loop\n",
    "\n",
    "A for loop allows you to repeat a set of instructions for a specific number of times"
   ]
  },
  {
   "cell_type": "markdown",
   "id": "b1de8c00-499d-4fbd-aae8-b5065e40b814",
   "metadata": {},
   "source": [
    "### Examples\n",
    "\n",
    "The following program print from 0 to 4"
   ]
  },
  {
   "cell_type": "code",
   "execution_count": 1,
   "id": "b4324452-370b-4f61-b692-bed8323c7ed2",
   "metadata": {},
   "outputs": [],
   "source": [
    "for i in range(0,5):\n",
    "    print(i)"
   ]
  },
  {
   "cell_type": "markdown",
   "id": "654fe576-c400-4e7b-bd53-f768210ef2d5",
   "metadata": {},
   "source": [
    "Note:\n",
    "1. The `print(i)` statement is indented.\n",
    "2. All statements under the for loop must be indented properly."
   ]
  },
  {
   "cell_type": "markdown",
   "id": "cd39240e-8d66-456f-aba7-68aa77231418",
   "metadata": {},
   "source": [
    "### Exercise\n",
    "\n",
    "Use for loop to print from 1 to 10"
   ]
  },
  {
   "cell_type": "code",
   "execution_count": null,
   "id": "e98e81ab-f83d-4935-ab2f-f58d5c060cce",
   "metadata": {},
   "outputs": [],
   "source": [
    "for i in range(0,5):\n",
    "    print(i)"
   ]
  },
  {
   "cell_type": "markdown",
   "id": "b4b77d30-dc4c-4912-a311-60dfafb6f47e",
   "metadata": {
    "jp-MarkdownHeadingCollapsed": true
   },
   "source": [
    "#### Answer"
   ]
  },
  {
   "cell_type": "code",
   "execution_count": 2,
   "id": "82a4c229-3801-4592-8819-cd7ecf9cd918",
   "metadata": {},
   "outputs": [],
   "source": [
    "for i in range(1,11):\n",
    "    print(i)"
   ]
  },
  {
   "cell_type": "markdown",
   "id": "601e29fa-2791-49d8-94d2-7bd3b9cb4bb9",
   "metadata": {},
   "source": [
    "### Task: Try to print two line per loop\n",
    "\n",
    "How do you print the following?\n",
    "\n",
    "```\n",
    "1\n",
    "2\n",
    "2\n",
    "3\n",
    "3\n",
    "4\n",
    "```"
   ]
  },
  {
   "cell_type": "code",
   "execution_count": null,
   "id": "451191b4-60ae-407d-bd3a-88459822c5a2",
   "metadata": {},
   "outputs": [],
   "source": [
    "for i in range(1,4):\n",
    "    print(i)"
   ]
  },
  {
   "cell_type": "markdown",
   "id": "eeefcef9-2fda-4c8a-85fe-fc3094999ce2",
   "metadata": {
    "jp-MarkdownHeadingCollapsed": true
   },
   "source": [
    "#### Answer"
   ]
  },
  {
   "cell_type": "code",
   "execution_count": 4,
   "id": "a1bf4139-3f7c-4f20-803c-f49faa7e252d",
   "metadata": {},
   "outputs": [],
   "source": [
    "for i in range(1,4):\n",
    "    print(i)\n",
    "    print(i+1)"
   ]
  },
  {
   "cell_type": "markdown",
   "id": "467fa41f-9921-48e8-96df-f7fa83458fb4",
   "metadata": {},
   "source": [
    "### Add delay in for loop\n",
    "\n",
    "Can you use `time.sleep(n)` to print one line per 1 second?"
   ]
  },
  {
   "cell_type": "code",
   "execution_count": null,
   "id": "5ae90d1b-581e-40e1-bcef-fbf9ce9fd9bb",
   "metadata": {},
   "outputs": [],
   "source": [
    "import time\n",
    "\n",
    "for i in range(0,5):\n",
    "    print(i)"
   ]
  },
  {
   "cell_type": "markdown",
   "id": "5ecbe167-1cfa-45fe-bc91-5b379292c4a2",
   "metadata": {
    "jp-MarkdownHeadingCollapsed": true
   },
   "source": [
    "#### Answer"
   ]
  },
  {
   "cell_type": "code",
   "execution_count": 6,
   "id": "a3d70f04-20d8-451c-b39e-18fc59742d26",
   "metadata": {},
   "outputs": [],
   "source": [
    "import time\n",
    "\n",
    "for i in range(0,5):\n",
    "    print(i)\n",
    "    time.sleep(1)"
   ]
  },
  {
   "cell_type": "markdown",
   "id": "e6f24fdf-bc77-4cbd-8f32-6b25abe05d70",
   "metadata": {},
   "source": [
    "## Use for loop to capture images\n",
    "\n",
    "Change the following program to:\n",
    "- Use for loop to capture 10 images\n",
    "- Delay each capture by 1 second"
   ]
  },
  {
   "cell_type": "code",
   "execution_count": null,
   "id": "bda06a77-823e-41ce-8ffa-72989f43eebd",
   "metadata": {},
   "outputs": [],
   "source": [
    "import cv2\n",
    "import time\n",
    "from IPython.display import display, Image\n",
    "\n",
    "# Start the camera\n",
    "cap = cv2.VideoCapture(0)\n",
    "\n",
    "capture_image(cap, \"1.jpg\")\n",
    "time.sleep(10)\n",
    "capture_image(cap, \"2.jpg\")\n",
    "\n",
    "# Release the camera\n",
    "cap.release()"
   ]
  },
  {
   "cell_type": "markdown",
   "id": "4ef9d2c2-c048-465e-b7c4-2296f8d5808d",
   "metadata": {},
   "source": [
    "### Hints #1 - String concat\n",
    "To concatenate an integer and a string, you need to convert the integer to string first using `str(n)`"
   ]
  },
  {
   "cell_type": "code",
   "execution_count": null,
   "id": "5e2f4318-4446-473e-9951-19a6c8e813f6",
   "metadata": {},
   "outputs": [],
   "source": [
    "# Example\n",
    "i = 1\n",
    "print(str(i)+\".jpg\")"
   ]
  },
  {
   "cell_type": "markdown",
   "id": "979425b8-a79d-4bbd-bad5-b2b2c3809cd5",
   "metadata": {
    "jp-MarkdownHeadingCollapsed": true
   },
   "source": [
    "### Answer"
   ]
  },
  {
   "cell_type": "code",
   "execution_count": null,
   "id": "244b9848-a3d9-473a-84e1-636994629e66",
   "metadata": {},
   "outputs": [],
   "source": [
    "import cv2\n",
    "import time\n",
    "from IPython.display import display, Image\n",
    "\n",
    "# Start the camera\n",
    "cap = cv2.VideoCapture(0)\n",
    "\n",
    "for i in range(10):\n",
    "    capture_image(cap, str(i)+ \".jpg\")\n",
    "    time.sleep(1)\n",
    "\n",
    "# Release the camera\n",
    "cap.release()"
   ]
  },
  {
   "cell_type": "markdown",
   "id": "9c9852a1-6f15-4f07-9a50-f7fd9171da61",
   "metadata": {},
   "source": [
    "## Use ffmpeg to create a time lapse image"
   ]
  },
  {
   "cell_type": "markdown",
   "id": "7119908c-219c-4b1f-bd53-56ba691982bf",
   "metadata": {},
   "source": [
    "We now have a lot of images in our camera folder"
   ]
  },
  {
   "cell_type": "code",
   "execution_count": null,
   "id": "e7920865-b79b-4094-82bb-5b3e6cceedff",
   "metadata": {},
   "outputs": [],
   "source": [
    "!ls camera_output"
   ]
  },
  {
   "cell_type": "markdown",
   "id": "62d8e457-c586-4ef7-bc26-ff80db1ad6d8",
   "metadata": {},
   "source": [
    "But they are static images. Do you know what a gif image is? Here is a sample\n",
    "\n",
    "<img src=\"images/gif_sample_shibu_meme.webp\" />"
   ]
  },
  {
   "cell_type": "markdown",
   "id": "49a9b3c5-844a-43e7-bdcf-2a00b77d0efe",
   "metadata": {},
   "source": [
    "We can use a command named `ffmpeg` to create a gif using the images we capture\n",
    "\n",
    "Read this website if you have time:\n",
    "[How to Make GIFs from Images Using FFmpeg](https://www.bannerbear.com/blog/how-to-make-gifs-from-images-using-ffmpeg/)"
   ]
  },
  {
   "cell_type": "code",
   "execution_count": null,
   "id": "a86ba025-a699-4157-8ed8-1de0c925d6ad",
   "metadata": {},
   "outputs": [],
   "source": [
    "!ffmpeg -y -loglevel 0 -i camera_output/%d.jpg output.gif"
   ]
  },
  {
   "cell_type": "markdown",
   "id": "5c2df7d8-d698-430f-babc-954fa3447ac8",
   "metadata": {},
   "source": [
    "### Show the result"
   ]
  },
  {
   "cell_type": "code",
   "execution_count": 1,
   "id": "0200e91e-e203-4982-8969-db713a89de4a",
   "metadata": {},
   "outputs": [],
   "source": [
    "Image(filename=\"output.gif\")"
   ]
  },
  {
   "cell_type": "markdown",
   "id": "5cccca4b-bbac-4aa2-9743-ad73c8337fcd",
   "metadata": {},
   "source": [
    "<hr/>"
   ]
  },
  {
   "cell_type": "markdown",
   "id": "3b376544-2517-4b95-913f-ce6f522ce5bf",
   "metadata": {},
   "source": [
    "## Congratulation! You have finished this chapter."
   ]
  },
  {
   "cell_type": "markdown",
   "id": "d63a5467-8b99-4112-a85f-8c63a83d575a",
   "metadata": {},
   "source": [
    "This jupyter notebook is created by 10Botics. <br>\n",
    "For permission to use in school, please contact info@10botics.com <br>\n",
    "All rights reserved. 2024."
   ]
  }
 ],
 "metadata": {
  "kernelspec": {
   "display_name": "Python 3 (ipykernel)",
   "language": "python",
   "name": "python3"
  },
  "language_info": {
   "codemirror_mode": {
    "name": "ipython",
    "version": 3
   },
   "file_extension": ".py",
   "mimetype": "text/x-python",
   "name": "python",
   "nbconvert_exporter": "python",
   "pygments_lexer": "ipython3",
   "version": "3.11.11"
  }
 },
 "nbformat": 4,
 "nbformat_minor": 5
}
