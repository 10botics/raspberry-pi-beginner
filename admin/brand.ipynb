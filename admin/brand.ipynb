{
 "cells": [
  {
   "cell_type": "markdown",
   "id": "8513baff-cafb-4967-87cf-7f9f03072744",
   "metadata": {},
   "source": [
    "<img src=\"https://10botics.com/logo_jnb.png\" width=\"300\"/>"
   ]
  },
  {
   "cell_type": "markdown",
   "id": "d63a5467-8b99-4112-a85f-8c63a83d575a",
   "metadata": {},
   "source": [
    "This jupyter notebook is created by 10Botics. <br>\n",
    "For permission to use in school, please contact info@10botics.com <br>\n",
    "All rights reserved. 2024."
   ]
  },
  {
   "cell_type": "code",
   "execution_count": null,
   "id": "0cc951cf-e5e5-4abd-a35a-b3e609dcf56e",
   "metadata": {},
   "outputs": [],
   "source": []
  }
 ],
 "metadata": {
  "kernelspec": {
   "display_name": "Python 3 (ipykernel)",
   "language": "python",
   "name": "python3"
  },
  "language_info": {
   "codemirror_mode": {
    "name": "ipython",
    "version": 3
   },
   "file_extension": ".py",
   "mimetype": "text/x-python",
   "name": "python",
   "nbconvert_exporter": "python",
   "pygments_lexer": "ipython3",
   "version": "3.9.2"
  }
 },
 "nbformat": 4,
 "nbformat_minor": 5
}
