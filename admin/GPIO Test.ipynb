{
 "cells": [
  {
   "cell_type": "code",
   "execution_count": null,
   "id": "1e8f84f0-1cdb-4e96-8a67-9d0092bfeddb",
   "metadata": {},
   "outputs": [],
   "source": [
    "# Include the library files\n",
    "import RPi.GPIO as GPIO\n",
    "from time import sleep\n",
    "\n",
    "# Enter the button pins\n",
    "button_1 = 5\n",
    "\n",
    "GPIO.setmode(GPIO.BCM)\n",
    "GPIO.setwarnings(False)\n",
    "\n",
    "\n",
    "# Set the Button pins as Input pins\n",
    "GPIO.setup(button_1,GPIO.IN,pull_up_down=GPIO.PUD_UP)\n",
    "# GPIO.setup(button_2,GPIO.IN,pull_up_down=GPIO.PUD_UP)\n",
    "\n",
    "while True:\n",
    "    if GPIO.input(button_1) == 0: # Get the button value\n",
    "        print(\"haha1\")        \n",
    "    elif GPIO.input(button_1) == 1: # Get the button value\n",
    "        print(\"haha2\")\n",
    "    sleep(0.5)\n",
    "\n",
    "    "
   ]
  }
 ],
 "metadata": {
  "kernelspec": {
   "display_name": "Python 3 (ipykernel)",
   "language": "python",
   "name": "python3"
  },
  "language_info": {
   "codemirror_mode": {
    "name": "ipython",
    "version": 3
   },
   "file_extension": ".py",
   "mimetype": "text/x-python",
   "name": "python",
   "nbconvert_exporter": "python",
   "pygments_lexer": "ipython3",
   "version": "3.9.2"
  }
 },
 "nbformat": 4,
 "nbformat_minor": 5
}
