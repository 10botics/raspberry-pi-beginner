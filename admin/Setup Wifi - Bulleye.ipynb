{
 "cells": [
  {
   "cell_type": "markdown",
   "id": "121f06df-c808-48bf-b896-bf847e8c265d",
   "metadata": {},
   "source": [
    "# Bulleye WIFI Setup"
   ]
  },
  {
   "cell_type": "code",
   "execution_count": 1,
   "id": "6f137e0c-c409-4983-b5a9-dc52fd8f0c86",
   "metadata": {},
   "outputs": [
    {
     "name": "stdout",
     "output_type": "stream",
     "text": [
      "PRETTY_NAME=\"Debian GNU/Linux 11 (bullseye)\"\n",
      "NAME=\"Debian GNU/Linux\"\n",
      "VERSION_ID=\"11\"\n",
      "VERSION=\"11 (bullseye)\"\n",
      "VERSION_CODENAME=bullseye\n",
      "ID=debian\n",
      "HOME_URL=\"https://www.debian.org/\"\n",
      "SUPPORT_URL=\"https://www.debian.org/support\"\n",
      "BUG_REPORT_URL=\"https://bugs.debian.org/\"\n"
     ]
    }
   ],
   "source": [
    "!cat /etc/os-release"
   ]
  },
  {
   "cell_type": "markdown",
   "id": "0b929fad-3725-4fc4-af57-1b9e6fcedc6e",
   "metadata": {},
   "source": [
    "## Add a new wifi connection"
   ]
  },
  {
   "cell_type": "code",
   "execution_count": null,
   "id": "63a1c61e-67a4-4028-a535-edefa9f332e6",
   "metadata": {},
   "outputs": [],
   "source": [
    "%%bash\n",
    "sudo tee -a /etc/wpa_supplicant/wpa_supplicant.conf <<EOF\n",
    "network={\n",
    "    ssid=\"Logos_Other\"\n",
    "    psk=\"\"\n",
    "    key_mgmt=WPA-PSK\n",
    "}\n",
    "EOF"
   ]
  },
  {
   "cell_type": "code",
   "execution_count": 2,
   "id": "91749808-b435-483d-b1a1-65089e1fe7a7",
   "metadata": {},
   "outputs": [
    {
     "name": "stdout",
     "output_type": "stream",
     "text": [
      "ctrl_interface=DIR=/var/run/wpa_supplicant GROUP=netdev\n",
      "update_config=1\n",
      "country=HK\n",
      "\n",
      "network={\n",
      "\tssid=\"Proactive_JBB_Guest\"\n",
      "\tpsk=\"74298342\"\n",
      "\tkey_mgmt=WPA-PSK\n",
      "}\n",
      "\n",
      "network={\n",
      "\tssid=\"RM207AP\"\n",
      "\tpsk=\"student207\"\n",
      "\tkey_mgmt=WPA-PSK\n",
      "}\n",
      "network={\n",
      "    ssid=\"Logos_Other\"\n",
      "    psk=\"10botics\"\n",
      "    key_mgmt=WPA-PSK\n",
      "}\n"
     ]
    }
   ],
   "source": [
    "!sudo cat /etc/wpa_supplicant/wpa_supplicant.conf"
   ]
  }
 ],
 "metadata": {
  "kernelspec": {
   "display_name": "Python 3 (ipykernel)",
   "language": "python",
   "name": "python3"
  },
  "language_info": {
   "codemirror_mode": {
    "name": "ipython",
    "version": 3
   },
   "file_extension": ".py",
   "mimetype": "text/x-python",
   "name": "python",
   "nbconvert_exporter": "python",
   "pygments_lexer": "ipython3",
   "version": "3.9.2"
  }
 },
 "nbformat": 4,
 "nbformat_minor": 5
}
