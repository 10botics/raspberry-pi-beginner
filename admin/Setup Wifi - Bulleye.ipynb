{
 "cells": [
  {
   "cell_type": "markdown",
   "id": "121f06df-c808-48bf-b896-bf847e8c265d",
   "metadata": {},
   "source": [
    "# Bulleye WIFI Setup"
   ]
  },
  {
   "cell_type": "code",
   "execution_count": null,
   "id": "6f137e0c-c409-4983-b5a9-dc52fd8f0c86",
   "metadata": {},
   "outputs": [],
   "source": [
    "!cat /etc/os-release"
   ]
  },
  {
   "cell_type": "markdown",
   "id": "0b929fad-3725-4fc4-af57-1b9e6fcedc6e",
   "metadata": {},
   "source": [
    "## Add a new wifi connection"
   ]
  },
  {
   "cell_type": "code",
   "execution_count": null,
   "id": "63a1c61e-67a4-4028-a535-edefa9f332e6",
   "metadata": {},
   "outputs": [],
   "source": [
    "%%bash\n",
    "sudo tee -a /etc/wpa_supplicant/wpa_supplicant.conf <<EOF\n",
    "network={\n",
    "    ssid=\"Logos_Other\"\n",
    "    psk=\"\"\n",
    "    key_mgmt=WPA-PSK\n",
    "}\n",
    "EOF"
   ]
  },
  {
   "cell_type": "code",
   "execution_count": null,
   "id": "91749808-b435-483d-b1a1-65089e1fe7a7",
   "metadata": {},
   "outputs": [],
   "source": [
    "!sudo cat /etc/wpa_supplicant/wpa_supplicant.conf"
   ]
  },
  {
   "cell_type": "code",
   "execution_count": null,
   "id": "db478fc0-ea3a-4255-9292-5b3474383c3a",
   "metadata": {},
   "outputs": [],
   "source": []
  }
 ],
 "metadata": {
  "kernelspec": {
   "display_name": "Python 3 (ipykernel)",
   "language": "python",
   "name": "python3"
  },
  "language_info": {
   "codemirror_mode": {
    "name": "ipython",
    "version": 3
   },
   "file_extension": ".py",
   "mimetype": "text/x-python",
   "name": "python",
   "nbconvert_exporter": "python",
   "pygments_lexer": "ipython3",
   "version": "3.9.2"
  }
 },
 "nbformat": 4,
 "nbformat_minor": 5
}
