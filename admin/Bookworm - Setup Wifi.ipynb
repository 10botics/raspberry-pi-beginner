{
 "cells": [
  {
   "cell_type": "markdown",
   "id": "121f06df-c808-48bf-b896-bf847e8c265d",
   "metadata": {},
   "source": [
    "# Bookworm WIFI Setup"
   ]
  },
  {
   "cell_type": "code",
   "execution_count": 15,
   "id": "63a1c61e-67a4-4028-a535-edefa9f332e6",
   "metadata": {},
   "outputs": [
    {
     "name": "stdout",
     "output_type": "stream",
     "text": [
      "NAME                UUID                                  TYPE      DEVICE \n",
      "\u001b[32mrobocar_5G\u001b[0m          \u001b[32m4161566c-6a3e-49e9-97fe-3056d6a2e4f2\u001b[0m  \u001b[32mwifi\u001b[0m      \u001b[32mwlan0\u001b[0m  \n",
      "\u001b[32;2mlo\u001b[0m                  \u001b[32;2m331f09d6-8fc2-4edf-bfa2-465b3c9a71b4\u001b[0m  \u001b[32;2mloopback\u001b[0m  \u001b[32;2mlo\u001b[0m     \n",
      "preconfigured       b290431f-2d91-4af4-b622-6e916d2ba052  wifi      --     \n",
      "Proactive5G         8510d6cc-9154-414a-bb98-d5dbb21a2c00  wifi      --     \n",
      "Wired connection 1  dbb9af55-b3e7-3824-ba93-5719b92b77e0  ethernet  --     \n"
     ]
    }
   ],
   "source": [
    "# To list all the connections on a system using nmcli\n",
    "!nmcli connection show"
   ]
  },
  {
   "cell_type": "markdown",
   "id": "f95e1012-2338-4230-889f-a0b06222d2a9",
   "metadata": {},
   "source": [
    "## Scan and list all wifi available"
   ]
  },
  {
   "cell_type": "code",
   "execution_count": null,
   "id": "c56a5ca2-d77c-48ae-8f42-d1fcfdcbb097",
   "metadata": {},
   "outputs": [],
   "source": [
    "!sudo nmcli device wifi rescan\n",
    "\n",
    "!nmcli device wifi list"
   ]
  },
  {
   "cell_type": "markdown",
   "id": "0b929fad-3725-4fc4-af57-1b9e6fcedc6e",
   "metadata": {},
   "source": [
    "## Add a new wifi connection"
   ]
  },
  {
   "cell_type": "code",
   "execution_count": null,
   "id": "d228cd04-c4d7-4ead-9ac0-077a4beffc39",
   "metadata": {},
   "outputs": [],
   "source": [
    "!sudo nmcli device wifi connect 'robocar_5G' password 'abcd1234'\n"
   ]
  },
  {
   "cell_type": "code",
   "execution_count": null,
   "id": "1d67e5b3-2ec5-4931-bd4c-c4396c0a7d0d",
   "metadata": {},
   "outputs": [],
   "source": [
    "nmcli connection modify 'robocar_5G' connection.autoconnect-priority 1"
   ]
  },
  {
   "cell_type": "markdown",
   "id": "a9adffd3-70a7-46d0-a3b5-913563da23eb",
   "metadata": {},
   "source": [
    "## Show currently active wifi"
   ]
  },
  {
   "cell_type": "code",
   "execution_count": null,
   "id": "17de63c8-1632-49d0-809d-5f65b7d2712d",
   "metadata": {},
   "outputs": [],
   "source": [
    "!nmcli connection show --active"
   ]
  }
 ],
 "metadata": {
  "kernelspec": {
   "display_name": "Python 3 (ipykernel)",
   "language": "python",
   "name": "python3"
  },
  "language_info": {
   "codemirror_mode": {
    "name": "ipython",
    "version": 3
   },
   "file_extension": ".py",
   "mimetype": "text/x-python",
   "name": "python",
   "nbconvert_exporter": "python",
   "pygments_lexer": "ipython3",
   "version": "3.11.2"
  }
 },
 "nbformat": 4,
 "nbformat_minor": 5
}
