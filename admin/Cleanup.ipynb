{
 "cells": [
  {
   "cell_type": "code",
   "execution_count": 1,
   "id": "ba2df8a3-c00b-4b9b-a4c0-73ddfc97fc41",
   "metadata": {},
   "outputs": [],
   "source": [
    "!rm ../*.jpg\n",
    "!rm ../*.gif\n",
    "!rm ../camera_output/*.jpg"
   ]
  },
  {
   "cell_type": "code",
   "execution_count": null,
   "id": "dc8017a4-3e9b-48ef-ae41-c9b5e52d4b47",
   "metadata": {},
   "outputs": [],
   "source": [
    "%cd ../\n",
    "\n",
    "git checkout ."
   ]
  },
  {
   "cell_type": "code",
   "execution_count": null,
   "id": "1be2fa2e-e427-4ecb-8599-1091b034f559",
   "metadata": {},
   "outputs": [],
   "source": [
    "!sudo systemctl enable change-hostname.service"
   ]
  },
  {
   "cell_type": "code",
   "execution_count": null,
   "id": "a2361b5f-7b73-4da0-9fc0-cc56cabfd695",
   "metadata": {},
   "outputs": [],
   "source": [
    "# Move the default directory of jupyter back to root"
   ]
  }
 ],
 "metadata": {
  "kernelspec": {
   "display_name": "Python 3 (ipykernel)",
   "language": "python",
   "name": "python3"
  },
  "language_info": {
   "codemirror_mode": {
    "name": "ipython",
    "version": 3
   },
   "file_extension": ".py",
   "mimetype": "text/x-python",
   "name": "python",
   "nbconvert_exporter": "python",
   "pygments_lexer": "ipython3",
   "version": "3.9.2"
  }
 },
 "nbformat": 4,
 "nbformat_minor": 5
}
