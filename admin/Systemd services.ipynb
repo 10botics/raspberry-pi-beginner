{
 "cells": [
  {
   "cell_type": "markdown",
   "id": "f6b551de-d19f-43d6-aefb-74894d366eb7",
   "metadata": {},
   "source": [
    "## Systemd Service"
   ]
  },
  {
   "cell_type": "markdown",
   "id": "423e2149-5ba1-4bb7-abcb-a66c8120313e",
   "metadata": {},
   "source": [
    "### Link systemd"
   ]
  },
  {
   "cell_type": "code",
   "execution_count": 3,
   "id": "6d16563d-526d-4c2e-bc7a-01c0db4851f7",
   "metadata": {},
   "outputs": [],
   "source": [
    "!sudo ln -sf /home/pi/raspberry-pi-beginner/admin/oled-hostname.service /etc/systemd/system\n"
   ]
  },
  {
   "cell_type": "markdown",
   "id": "191069a5-9b2a-49c1-81be-c161bfca0718",
   "metadata": {},
   "source": [
    "### Install service"
   ]
  },
  {
   "cell_type": "code",
   "execution_count": 4,
   "id": "9907ea94-5fee-4b7f-bd15-78a02bd7660e",
   "metadata": {},
   "outputs": [
    {
     "name": "stdout",
     "output_type": "stream",
     "text": [
      "Removed /etc/systemd/system/multi-user.target.wants/oled-hostname.service.\n",
      "Created symlink /etc/systemd/system/multi-user.target.wants/oled-hostname.service → /home/pi/raspberry-pi-beginner/admin/oled-hostname.service.\n"
     ]
    }
   ],
   "source": [
    "!sudo systemctl daemon-reload\n",
    "!sudo systemctl enable oled-hostname.service\n"
   ]
  },
  {
   "cell_type": "markdown",
   "id": "ffe7caad-7fcb-49d0-a62d-327806e49661",
   "metadata": {},
   "source": [
    "## Update Notebook Service"
   ]
  },
  {
   "cell_type": "code",
   "execution_count": 3,
   "id": "110956d6-bce5-4f49-91e6-5fcd8b371fdd",
   "metadata": {},
   "outputs": [],
   "source": [
    "!sudo ln -sf /home/pi/raspberry-pi-beginner/admin/update-notebooks.service /etc/systemd/system\n"
   ]
  },
  {
   "cell_type": "code",
   "execution_count": 1,
   "id": "b5e7f7cb-6852-4bd8-9409-46821400d45e",
   "metadata": {},
   "outputs": [],
   "source": [
    "!sudo systemctl daemon-reload\n",
    "!sudo systemctl enable update-notebooks.service"
   ]
  },
  {
   "cell_type": "markdown",
   "id": "f925ff59-38b8-40d6-a579-05158b818581",
   "metadata": {},
   "source": [
    "## Change Hostname Service"
   ]
  },
  {
   "cell_type": "code",
   "execution_count": null,
   "id": "97ffb797-ba09-42ea-beb0-e6c96a50562e",
   "metadata": {},
   "outputs": [],
   "source": [
    "!sudo ln -sf /home/pi/raspberry-pi-beginner/admin/change-hostname.service /etc/systemd/system\n"
   ]
  },
  {
   "cell_type": "code",
   "execution_count": null,
   "id": "29a2048e-2288-4735-a911-aedf1a10fbce",
   "metadata": {},
   "outputs": [],
   "source": [
    "!sudo systemctl daemon-reload\n",
    "!sudo systemctl enable change-hostname.service"
   ]
  },
  {
   "cell_type": "markdown",
   "id": "528c31f3-f197-48a5-992a-e80916fd43fc",
   "metadata": {},
   "source": [
    "## Reboot"
   ]
  },
  {
   "cell_type": "code",
   "execution_count": null,
   "id": "e6b9bf3d-f617-4238-b16e-453bd8fb3190",
   "metadata": {},
   "outputs": [],
   "source": [
    "!sudo reboot"
   ]
  },
  {
   "cell_type": "code",
   "execution_count": 5,
   "id": "66e6a5d2-d0ac-4fa8-952d-16e73d79cc2d",
   "metadata": {},
   "outputs": [
    {
     "name": "stdout",
     "output_type": "stream",
     "text": [
      "/home/pi/raspberry-pi-beginner\n"
     ]
    },
    {
     "data": {
      "text/plain": [
       "'/home/pi/raspberry-pi-beginner'"
      ]
     },
     "execution_count": 5,
     "metadata": {},
     "output_type": "execute_result"
    }
   ],
   "source": [
    "%cd ..\n",
    "%pwd"
   ]
  },
  {
   "cell_type": "code",
   "execution_count": 7,
   "id": "59a2b950-b6ff-4a5a-815a-64af1650218d",
   "metadata": {},
   "outputs": [],
   "source": [
    "!git remote set-url origin https://github.com/10botics/raspberry-pi-beginner.git"
   ]
  }
 ],
 "metadata": {
  "kernelspec": {
   "display_name": "Python 3 (ipykernel)",
   "language": "python",
   "name": "python3"
  },
  "language_info": {
   "codemirror_mode": {
    "name": "ipython",
    "version": 3
   },
   "file_extension": ".py",
   "mimetype": "text/x-python",
   "name": "python",
   "nbconvert_exporter": "python",
   "pygments_lexer": "ipython3",
   "version": "3.9.2"
  }
 },
 "nbformat": 4,
 "nbformat_minor": 5
}
