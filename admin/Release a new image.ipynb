{
 "cells": [
  {
   "cell_type": "markdown",
   "id": "174cfdff-8f0a-467e-b68d-1b0130351ff7",
   "metadata": {},
   "source": [
    "# Release a new image"
   ]
  },
  {
   "cell_type": "markdown",
   "id": "e864c3aa-34a9-4c47-a9e9-8236ee3e2fad",
   "metadata": {},
   "source": [
    "Below are the steps you would normally take to prepare a new image release"
   ]
  },
  {
   "cell_type": "markdown",
   "id": "74fc1ce8-a3a3-4604-966f-40afbc4561d2",
   "metadata": {},
   "source": [
    "## Setting up Wifi\n",
    "\n",
    "Follow the setup wifi notebook to setup the wifi for your school\n",
    "- Bulleye\n",
    "- Bookworm"
   ]
  },
  {
   "cell_type": "markdown",
   "id": "a35cdc82-b964-4c89-abe7-264c2a97b53c",
   "metadata": {},
   "source": [
    "## Enable the change hostname on next boot"
   ]
  },
  {
   "cell_type": "code",
   "execution_count": 3,
   "id": "80a3f370-6a21-443c-9f61-544c541354c6",
   "metadata": {},
   "outputs": [],
   "source": [
    "!sudo systemctl enable change-hostname.service"
   ]
  },
  {
   "cell_type": "code",
   "execution_count": null,
   "id": "bd5655f8-8781-4a7f-8672-c757285d222a",
   "metadata": {},
   "outputs": [],
   "source": []
  }
 ],
 "metadata": {
  "kernelspec": {
   "display_name": "Python 3 (ipykernel)",
   "language": "python",
   "name": "python3"
  },
  "language_info": {
   "codemirror_mode": {
    "name": "ipython",
    "version": 3
   },
   "file_extension": ".py",
   "mimetype": "text/x-python",
   "name": "python",
   "nbconvert_exporter": "python",
   "pygments_lexer": "ipython3",
   "version": "3.9.2"
  }
 },
 "nbformat": 4,
 "nbformat_minor": 5
}
