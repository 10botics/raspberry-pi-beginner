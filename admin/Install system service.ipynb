{
 "cells": [
  {
   "cell_type": "code",
   "execution_count": null,
   "id": "ba0de13c-6812-4c56-b921-51e8c6cfdf33",
   "metadata": {},
   "outputs": [],
   "source": [
    "## Install OLED service"
   ]
  },
  {
   "cell_type": "code",
   "execution_count": null,
   "id": "ddd8155c-15f8-4746-8e79-1c3eb2c951c5",
   "metadata": {},
   "outputs": [],
   "source": [
    "### Link systemd"
   ]
  },
  {
   "cell_type": "code",
   "execution_count": 3,
   "id": "6d16563d-526d-4c2e-bc7a-01c0db4851f7",
   "metadata": {},
   "outputs": [],
   "source": [
    "!sudo ln -sf /home/pi/raspberry-pi-beginner/admin/oled-hostname.service /etc/systemd/system\n"
   ]
  },
  {
   "cell_type": "code",
   "execution_count": null,
   "id": "dc6658b6-fc45-42da-b05f-f44f2b5786d6",
   "metadata": {},
   "outputs": [],
   "source": [
    "### Install service"
   ]
  },
  {
   "cell_type": "code",
   "execution_count": 4,
   "id": "9907ea94-5fee-4b7f-bd15-78a02bd7660e",
   "metadata": {},
   "outputs": [
    {
     "name": "stdout",
     "output_type": "stream",
     "text": [
      "Removed /etc/systemd/system/multi-user.target.wants/oled-hostname.service.\n",
      "Created symlink /etc/systemd/system/multi-user.target.wants/oled-hostname.service → /home/pi/raspberry-pi-beginner/admin/oled-hostname.service.\n"
     ]
    }
   ],
   "source": [
    "!sudo systemctl daemon-reload\n",
    "!sudo systemctl enable oled-hostname.service\n"
   ]
  },
  {
   "cell_type": "code",
   "execution_count": 3,
   "id": "110956d6-bce5-4f49-91e6-5fcd8b371fdd",
   "metadata": {},
   "outputs": [],
   "source": [
    "!sudo ln -sf /home/pi/raspberry-pi-beginner/admin/update-notebooks.service /etc/systemd/system\n"
   ]
  },
  {
   "cell_type": "code",
   "execution_count": 4,
   "id": "b5e7f7cb-6852-4bd8-9409-46821400d45e",
   "metadata": {},
   "outputs": [
    {
     "name": "stdout",
     "output_type": "stream",
     "text": [
      "Created symlink /etc/systemd/system/multi-user.target.wants/update-notebooks.service → /home/pi/raspberry-pi-beginner/admin/update-notebooks.service.\n"
     ]
    }
   ],
   "source": [
    "!sudo systemctl daemon-reload\n",
    "!sudo systemctl enable update-notebooks.service"
   ]
  },
  {
   "cell_type": "code",
   "execution_count": null,
   "id": "e6b9bf3d-f617-4238-b16e-453bd8fb3190",
   "metadata": {},
   "outputs": [],
   "source": [
    "!sudo reboot"
   ]
  },
  {
   "cell_type": "code",
   "execution_count": 5,
   "id": "66e6a5d2-d0ac-4fa8-952d-16e73d79cc2d",
   "metadata": {},
   "outputs": [
    {
     "name": "stdout",
     "output_type": "stream",
     "text": [
      "/home/pi/raspberry-pi-beginner\n"
     ]
    },
    {
     "data": {
      "text/plain": [
       "'/home/pi/raspberry-pi-beginner'"
      ]
     },
     "execution_count": 5,
     "metadata": {},
     "output_type": "execute_result"
    }
   ],
   "source": [
    "%cd ..\n",
    "%pwd"
   ]
  },
  {
   "cell_type": "code",
   "execution_count": 7,
   "id": "59a2b950-b6ff-4a5a-815a-64af1650218d",
   "metadata": {},
   "outputs": [],
   "source": [
    "!git remote set-url origin https://github.com/10botics/raspberry-pi-beginner.git"
   ]
  },
  {
   "cell_type": "code",
   "execution_count": null,
   "id": "a3440d49-a95b-4ef4-a1b7-b7b874286ac7",
   "metadata": {},
   "outputs": [],
   "source": []
  }
 ],
 "metadata": {
  "kernelspec": {
   "display_name": "Python 3 (ipykernel)",
   "language": "python",
   "name": "python3"
  },
  "language_info": {
   "codemirror_mode": {
    "name": "ipython",
    "version": 3
   },
   "file_extension": ".py",
   "mimetype": "text/x-python",
   "name": "python",
   "nbconvert_exporter": "python",
   "pygments_lexer": "ipython3",
   "version": "3.9.2"
  }
 },
 "nbformat": 4,
 "nbformat_minor": 5
}
