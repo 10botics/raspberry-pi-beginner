{
 "cells": [
  {
   "cell_type": "markdown",
   "id": "d3a3a714-349c-4f1e-a9ac-732e3546dcc1",
   "metadata": {},
   "source": [
    "# Hello World"
   ]
  },
  {
   "cell_type": "markdown",
   "id": "98d870e7-b692-49dc-8317-d4b4abf80871",
   "metadata": {},
   "source": [
    "In this lesson, you will learn:\n",
    "\n",
    "1. Write a program to display Hello World on the OLED display\n",
    "2. Display your name on the OLED display\n",
    "3. Learn how big the screen is in pixel\n",
    "4. Change the position of the text\n",
    "5. Clear the screen\n",
    "6. Fill the screen with white color"
   ]
  },
  {
   "cell_type": "markdown",
   "id": "b1f445fe-39fb-433c-b5d3-292eaa34af2f",
   "metadata": {},
   "source": [
    "## Python Hello World"
   ]
  },
  {
   "cell_type": "markdown",
   "id": "2bc86af7-86f3-4063-ab31-1544209de314",
   "metadata": {},
   "source": [
    "In Python, a hello world is as simple as this:"
   ]
  },
  {
   "cell_type": "code",
   "execution_count": 1,
   "id": "af5fe929-f5fa-463c-8a8d-71ae196948d3",
   "metadata": {},
   "outputs": [
    {
     "name": "stdout",
     "output_type": "stream",
     "text": [
      "Hello World\n"
     ]
    }
   ],
   "source": [
    "print(\"Hello World\")"
   ]
  },
  {
   "cell_type": "markdown",
   "id": "2618c719-dd84-4443-be97-ea1dfc1239a8",
   "metadata": {},
   "source": [
    "## Hello World on OLED Display"
   ]
  },
  {
   "cell_type": "markdown",
   "id": "bb9f0453-6403-4086-93c2-38b961bb02d1",
   "metadata": {},
   "source": [
    "Now, let's try to display the hello world on OLED Display"
   ]
  },
  {
   "cell_type": "code",
   "execution_count": 3,
   "id": "423ff6fa-f648-42b1-9965-870a96e70818",
   "metadata": {},
   "outputs": [],
   "source": [
    "from luma.core.interface.serial import i2c\n",
    "from luma.core.render import canvas\n",
    "from luma.oled.device import sh1106\n",
    "from PIL import ImageFont\n",
    "\n",
    "serial = i2c(port=1, address=0x3C)\n",
    "\n",
    "device = sh1106(serial, persist=True)\n",
    "device.cleanup = None\n",
    "\n",
    "with canvas(device) as draw:\n",
    "    draw.text((0, 0), \"Hello World!\", fill=\"white\")"
   ]
  },
  {
   "cell_type": "markdown",
   "id": "075a1800-22c5-4877-97a2-7a439ee3df65",
   "metadata": {},
   "source": [
    "## Display your name\n",
    "\n",
    "Modify the line below to display your name"
   ]
  },
  {
   "cell_type": "code",
   "execution_count": null,
   "id": "b19d80c7-c077-4060-a130-9f62755a228e",
   "metadata": {},
   "outputs": [],
   "source": [
    "with canvas(device) as draw:\n",
    "    draw.text((0, 0), \"Hello World!\", fill=\"white\")"
   ]
  },
  {
   "cell_type": "markdown",
   "id": "8f53c766-d993-443b-9f40-e5fffefae759",
   "metadata": {
    "jp-MarkdownHeadingCollapsed": true
   },
   "source": [
    "### Answer"
   ]
  },
  {
   "cell_type": "code",
   "execution_count": 4,
   "id": "b49786eb-c595-4104-8e01-51fbb429f1fc",
   "metadata": {},
   "outputs": [],
   "source": [
    "with canvas(device) as draw:\n",
    "    draw.text((0, 0), \"Hello Jonathan!\", fill=\"white\")"
   ]
  },
  {
   "cell_type": "markdown",
   "id": "029a819d-1ce1-42cd-abab-0229eeea4012",
   "metadata": {},
   "source": [
    "## Change the position of the text\n",
    "\n",
    "How do you show the text in the centre of the screen?"
   ]
  },
  {
   "cell_type": "code",
   "execution_count": null,
   "id": "6eff6412-3f45-4048-8ab7-a7b0acb3091a",
   "metadata": {},
   "outputs": [],
   "source": [
    "# Hints: Check the display size\n",
    "\n",
    "device.bounding_box"
   ]
  },
  {
   "cell_type": "code",
   "execution_count": null,
   "id": "4e871c41-f79b-4808-91b5-820fbf438964",
   "metadata": {},
   "outputs": [],
   "source": [
    "with canvas(device) as draw:\n",
    "    draw.text((0, 0), \"Hello World!\", fill=\"white\")"
   ]
  },
  {
   "cell_type": "markdown",
   "id": "e3fd2bcf-3615-4fc7-a9e0-1d9b4f4b4933",
   "metadata": {},
   "source": [
    "### Answer"
   ]
  },
  {
   "cell_type": "code",
   "execution_count": 5,
   "id": "36b1d9aa-8e60-46e1-9097-5d8d03e17f6e",
   "metadata": {},
   "outputs": [],
   "source": [
    "with canvas(device) as draw:\n",
    "    draw.text((30, 30), \"Hello World\", fill=\"white\")    "
   ]
  },
  {
   "cell_type": "markdown",
   "id": "1247215d-c8cb-436e-b3c9-8142a73b582c",
   "metadata": {},
   "source": [
    "## Clear the screen\n",
    "\n",
    "Draw an rectangle "
   ]
  },
  {
   "cell_type": "code",
   "execution_count": null,
   "id": "e25f702b-fea0-4bee-84ba-92b8d5b8191e",
   "metadata": {},
   "outputs": [],
   "source": [
    "with canvas(device) as draw:\n",
    "    draw.rectangle(device.bounding_box, outline=\"white\", fill=\"black\")"
   ]
  },
  {
   "cell_type": "markdown",
   "id": "ae9efc3d-bb78-4ded-8538-c67b20389278",
   "metadata": {},
   "source": [
    "## How do you fill the screen with white color?\n",
    "\n",
    "Modify the following line to fill the screen with white color"
   ]
  },
  {
   "cell_type": "code",
   "execution_count": null,
   "id": "7142edaf-1560-4557-b6fa-824ebb66c1b2",
   "metadata": {},
   "outputs": [],
   "source": [
    "with canvas(device) as draw:\n",
    "    draw.rectangle(device.bounding_box, outline=\"white\", fill=\"black\")"
   ]
  },
  {
   "cell_type": "markdown",
   "id": "b6959acb-2ed2-4dc1-8312-a724db29f572",
   "metadata": {
    "jp-MarkdownHeadingCollapsed": true
   },
   "source": [
    "### Answer"
   ]
  },
  {
   "cell_type": "code",
   "execution_count": 6,
   "id": "9aaef3d5-a95e-43cb-a2cd-47a758828b19",
   "metadata": {},
   "outputs": [],
   "source": [
    "with canvas(device) as draw:\n",
    "    draw.rectangle(device.bounding_box, outline=\"white\", fill=\"white\")"
   ]
  },
  {
   "cell_type": "markdown",
   "id": "f084cce1-3d72-4642-b866-5e6d0e5a54ba",
   "metadata": {},
   "source": [
    "## Bonus details"
   ]
  },
  {
   "cell_type": "markdown",
   "id": "45265dbc-2b9a-4e45-8cdf-f5f4ccb62074",
   "metadata": {},
   "source": [
    "### Connecting the OLED screen"
   ]
  },
  {
   "cell_type": "code",
   "execution_count": null,
   "id": "bc9447b2-d3db-49fd-b7ac-2403a34dd116",
   "metadata": {},
   "outputs": [],
   "source": [
    "serial = i2c(port=1, address=0x3C)"
   ]
  },
  {
   "cell_type": "markdown",
   "id": "971583b8-45ec-4497-88f2-9177a7ee3a49",
   "metadata": {},
   "source": [
    "#### What is i2c?  What is `address 0x3C`?"
   ]
  },
  {
   "cell_type": "markdown",
   "id": "e81be5b2-2748-40e6-b1df-cdf8ee7594b0",
   "metadata": {},
   "source": [
    "- I²C is a protocol to communicate with attaching lower-speed peripheral\n",
    "- It uses only two wires for communication. One is for the clock signal (SCL - Serial Clock Line) and the other is for data (SDA - Serial Data Line).\n",
    "- Each device on the bus has a unique address. "
   ]
  },
  {
   "cell_type": "markdown",
   "id": "4206d518-4515-4464-adc9-8de9027f3872",
   "metadata": {},
   "source": [
    "#### How do we find the address of the OLED screen?\n",
    "\n",
    "Use the command `i2cdetect`"
   ]
  },
  {
   "cell_type": "code",
   "execution_count": null,
   "id": "6445970c-8752-48ff-8f29-2747428429ce",
   "metadata": {},
   "outputs": [],
   "source": [
    "!i2cdetect -y 1"
   ]
  },
  {
   "cell_type": "markdown",
   "id": "859061e1-9e8c-44f2-b3c6-a0eabb2da511",
   "metadata": {},
   "source": [
    "## Challenges"
   ]
  },
  {
   "cell_type": "markdown",
   "id": "6e5aabef-09c5-4eae-a31a-3ecc5a6a4488",
   "metadata": {},
   "source": [
    "### 1. What would happen if you draw twice in the same position?"
   ]
  },
  {
   "cell_type": "code",
   "execution_count": 8,
   "id": "f5814b7f-925a-471b-9c65-40879412ea7c",
   "metadata": {},
   "outputs": [],
   "source": [
    "with canvas(device) as draw:\n",
    "    draw.text((0, 0), \"123\", fill=\"white\")\n",
    "    draw.text((0, 0), \"456\", fill=\"white\")"
   ]
  },
  {
   "cell_type": "markdown",
   "id": "85ce0129-cc24-4ed4-83b2-641a5c223e6a",
   "metadata": {},
   "source": [
    "### 2. How do you change the font?"
   ]
  },
  {
   "cell_type": "code",
   "execution_count": null,
   "id": "f55f34c7-f42a-49ee-8fb9-fd052253699c",
   "metadata": {},
   "outputs": [],
   "source": [
    "font = ImageFont.truetype('/usr/share/fonts/truetype/dejavu/DejaVuSansMono.ttf', 8)"
   ]
  },
  {
   "cell_type": "code",
   "execution_count": null,
   "id": "6e6a7cdf-30d5-4f7e-aed6-3c8e75b18507",
   "metadata": {},
   "outputs": [],
   "source": [
    "from matplotlib import font_manager \n",
    "font_manager.get_font_names()"
   ]
  }
 ],
 "metadata": {
  "kernelspec": {
   "display_name": "Python 3 (ipykernel)",
   "language": "python",
   "name": "python3"
  },
  "language_info": {
   "codemirror_mode": {
    "name": "ipython",
    "version": 3
   },
   "file_extension": ".py",
   "mimetype": "text/x-python",
   "name": "python",
   "nbconvert_exporter": "python",
   "pygments_lexer": "ipython3",
   "version": "3.9.2"
  }
 },
 "nbformat": 4,
 "nbformat_minor": 5
}
