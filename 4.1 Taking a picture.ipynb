{
 "cells": [
  {
   "cell_type": "markdown",
   "id": "8513baff-cafb-4967-87cf-7f9f03072744",
   "metadata": {},
   "source": [
    "<img src=\"https://10botics.com/logo_jnb.png\" width=\"300\"/>"
   ]
  },
  {
   "cell_type": "markdown",
   "id": "d3a3a714-349c-4f1e-a9ac-732e3546dcc1",
   "metadata": {},
   "source": [
    "# Taking a picture"
   ]
  },
  {
   "cell_type": "markdown",
   "id": "98d870e7-b692-49dc-8317-d4b4abf80871",
   "metadata": {},
   "source": [
    "In this lesson, you will learn:\n",
    "\n",
    "1. Check camera connectivity\n",
    "2. Take a picture using cv2"
   ]
  },
  {
   "cell_type": "markdown",
   "id": "8fee31c8-6d49-4131-81e6-c04c5d5657f4",
   "metadata": {},
   "source": [
    "## Check camera connectivity\n",
    "\n",
    "Run the following command. It should display\n",
    "\n",
    "`supported=1 detected=1, libcamera interfaces=0`\n",
    "\n",
    "If `detected=0`, your camera is not connected properly."
   ]
  },
  {
   "cell_type": "code",
   "execution_count": null,
   "id": "440f57ab-cdaf-4a59-9c9c-b7defb5c63d7",
   "metadata": {},
   "outputs": [],
   "source": [
    "!vcgencmd get_camera"
   ]
  },
  {
   "cell_type": "markdown",
   "id": "075a1800-22c5-4877-97a2-7a439ee3df65",
   "metadata": {},
   "source": [
    "## Exercise 1: Take a picture using cv2"
   ]
  },
  {
   "cell_type": "code",
   "execution_count": null,
   "id": "c0924333-ab1c-4f6b-bac6-d738bf0f0be9",
   "metadata": {},
   "outputs": [],
   "source": [
    "import cv2\n",
    "from IPython.display import display, Image\n",
    "\n",
    "# Start the camera\n",
    "cap = cv2.VideoCapture(0)\n",
    "\n",
    "# Capture a single frame\n",
    "ret, frame = cap.read()\n",
    "\n",
    "# Save the captured image\n",
    "if ret:\n",
    "    flipped_frame = cv2.flip(frame, 0)    \n",
    "    display(Image(data=cv2.imencode('.jpeg', flipped_frame)[1].tobytes()))    \n",
    "\n",
    "# Release the camera\n",
    "cap.release()"
   ]
  },
  {
   "cell_type": "markdown",
   "id": "964e45b6-a063-42aa-9c32-f40dc6b88664",
   "metadata": {},
   "source": [
    "Notes:\n",
    "- If `can't open camera by index`, restart the notebook instance"
   ]
  },
  {
   "cell_type": "markdown",
   "id": "5cccca4b-bbac-4aa2-9743-ad73c8337fcd",
   "metadata": {},
   "source": [
    "<hr/>"
   ]
  },
  {
   "cell_type": "markdown",
   "id": "3b376544-2517-4b95-913f-ce6f522ce5bf",
   "metadata": {},
   "source": [
    "## Congratulation! You have finished this chapter."
   ]
  },
  {
   "cell_type": "markdown",
   "id": "d63a5467-8b99-4112-a85f-8c63a83d575a",
   "metadata": {},
   "source": [
    "This jupyter notebook is created by 10Botics. <br>\n",
    "For permission to use in school, please contact info@10botics.com <br>\n",
    "All rights reserved. 2024."
   ]
  }
 ],
 "metadata": {
  "kernelspec": {
   "display_name": "Python 3 (ipykernel)",
   "language": "python",
   "name": "python3"
  },
  "language_info": {
   "codemirror_mode": {
    "name": "ipython",
    "version": 3
   },
   "file_extension": ".py",
   "mimetype": "text/x-python",
   "name": "python",
   "nbconvert_exporter": "python",
   "pygments_lexer": "ipython3",
   "version": "3.11.11"
  }
 },
 "nbformat": 4,
 "nbformat_minor": 5
}
