{
 "cells": [
  {
   "cell_type": "markdown",
   "id": "d3a3a714-349c-4f1e-a9ac-732e3546dcc1",
   "metadata": {},
   "source": [
    "# Linux Command"
   ]
  },
  {
   "cell_type": "markdown",
   "id": "98d870e7-b692-49dc-8317-d4b4abf80871",
   "metadata": {},
   "source": [
    "In this lesson, you will learn:\n",
    "\n",
    "1. What is a linux command?\n",
    "2. Run a linux command in jupyter lab"
   ]
  },
  {
   "cell_type": "markdown",
   "id": "84bf9d57-c548-4d06-badb-fb0d316d00e2",
   "metadata": {},
   "source": [
    "### What\n",
    "- **Instructions for Computers**: They are like secret codes that you type to tell your computer to do something for you.\n",
    "### Why\n",
    "- **Speed and Efficiency**: Commands can make tasks quicker and allow you to do things that might not be possible with just clicks.\n",
    "### How\n",
    "- **Press Enter**: After typing your command, hit Enter to make the magic happen."
   ]
  },
  {
   "cell_type": "markdown",
   "id": "4385be13-197e-4d22-adc1-2648248e93ba",
   "metadata": {},
   "source": [
    "## Run a linux command in jupyter lab"
   ]
  },
  {
   "cell_type": "markdown",
   "id": "8f107fac-7846-4afb-ac40-a08238960259",
   "metadata": {},
   "source": [
    "- By default, all jupyter notebook cell expect a python program. \n",
    "- If you want to run a linux command, prepend the command with a `!` "
   ]
  },
  {
   "cell_type": "markdown",
   "id": "3a3ef764-b3ff-495d-ba07-d754a3c38e37",
   "metadata": {},
   "source": [
    "### Hello World\n",
    "\n",
    "If you forget to type the !, an error will occur. Try below."
   ]
  },
  {
   "cell_type": "code",
   "execution_count": null,
   "id": "53f4a7f1-abf6-46f9-8027-2d1bc4941d56",
   "metadata": {},
   "outputs": [],
   "source": [
    "echo \"Hello World\""
   ]
  },
  {
   "cell_type": "markdown",
   "id": "a557a8dc-cc39-415f-8829-783ff3b2d4e7",
   "metadata": {},
   "source": [
    "Now, add a `!` to the beginning of the command to fix the error"
   ]
  },
  {
   "cell_type": "code",
   "execution_count": null,
   "id": "4aadc0d4-6d82-4f83-965d-ca0c67a83f57",
   "metadata": {},
   "outputs": [],
   "source": [
    "echo \"Hello World\""
   ]
  },
  {
   "cell_type": "markdown",
   "id": "ce60c116-0b47-4bd0-bde6-f533de04e763",
   "metadata": {},
   "source": [
    "## Examples"
   ]
  },
  {
   "cell_type": "markdown",
   "id": "38d40a17-03b4-46c2-b5b6-6d6937ca489e",
   "metadata": {},
   "source": [
    "### Whoami\n",
    "\n",
    "Displays the username of the current user logged into the system."
   ]
  },
  {
   "cell_type": "code",
   "execution_count": null,
   "id": "e1f80d59-3664-4390-8c10-64e8ab7bb7ce",
   "metadata": {},
   "outputs": [],
   "source": [
    "!whoami"
   ]
  },
  {
   "cell_type": "code",
   "execution_count": 2,
   "id": "60c1b544-d5e5-4fd8-a197-73dc7e2556d9",
   "metadata": {},
   "outputs": [
    {
     "name": "stdout",
     "output_type": "stream",
     "text": [
      "root\n"
     ]
    }
   ],
   "source": [
    "# Let's try sudo whoami\n",
    "\n",
    "!sudo whoami"
   ]
  },
  {
   "cell_type": "markdown",
   "id": "cc71616b-a35d-47dd-88e3-acda8eeb333e",
   "metadata": {},
   "source": [
    "### pwd\n",
    "\n",
    "Prints the full pathname of the current working directory"
   ]
  },
  {
   "cell_type": "code",
   "execution_count": null,
   "id": "7ff5540e-baaa-47d0-b8dc-691cb2f1e2cd",
   "metadata": {},
   "outputs": [],
   "source": [
    "!pwd"
   ]
  },
  {
   "cell_type": "markdown",
   "id": "5b0420da-2a5c-429d-8bf0-2cb9ad93dd8b",
   "metadata": {},
   "source": [
    "### ifconfig\n",
    "\n",
    "See and change information about how your computer connects to the internet or other networks"
   ]
  },
  {
   "cell_type": "code",
   "execution_count": null,
   "id": "220c9dac-37fc-4772-86a2-fc07d2b64759",
   "metadata": {},
   "outputs": [],
   "source": [
    "!ifconfig"
   ]
  },
  {
   "cell_type": "markdown",
   "id": "5516df9d-36ca-48db-8d1e-0ea2f09d3759",
   "metadata": {},
   "source": [
    "### date\n",
    "\n",
    "Shows the current date and time."
   ]
  },
  {
   "cell_type": "code",
   "execution_count": null,
   "id": "8de7f30c-1b60-4dee-870c-d4ce804944db",
   "metadata": {},
   "outputs": [],
   "source": [
    "!date"
   ]
  },
  {
   "cell_type": "markdown",
   "id": "e036430a-22f5-4644-8ee5-2f6c88343411",
   "metadata": {},
   "source": [
    "## Command parameters\n",
    "\n",
    "- When you use a command, sometimes you need to give it extra details or instructions on how to do its job. \n",
    "- These extra details are called \"parameters\" or \"arguments.\""
   ]
  },
  {
   "cell_type": "markdown",
   "id": "c3a914fa-18d0-49fa-8fdc-c68fe8e41d85",
   "metadata": {},
   "source": [
    "### Example\n",
    "\n",
    "Below tells the `date` command, \"Hey, show me the year, month, and day in that exact order.\""
   ]
  },
  {
   "cell_type": "code",
   "execution_count": null,
   "id": "46f1c759-58e4-476a-af2e-9adcdb04a9ea",
   "metadata": {},
   "outputs": [],
   "source": [
    "!date \"+%Y-%m-%d\""
   ]
  },
  {
   "cell_type": "markdown",
   "id": "d721b89d-aaec-4b5a-af80-ef4cdc32feba",
   "metadata": {},
   "source": [
    "### Challenge #1\n",
    "\n",
    "How to display the date in the format of \"day-month-year\"?"
   ]
  },
  {
   "cell_type": "code",
   "execution_count": null,
   "id": "3e768974-fe2e-4322-9a20-11867c860139",
   "metadata": {},
   "outputs": [],
   "source": [
    "!date \"+%Y-%m-%d\""
   ]
  },
  {
   "cell_type": "markdown",
   "id": "7b836994-a91c-44e4-a37d-9c5bcb35ccee",
   "metadata": {
    "jp-MarkdownHeadingCollapsed": true
   },
   "source": [
    "#### Answer"
   ]
  },
  {
   "cell_type": "code",
   "execution_count": 1,
   "id": "bfad444b-71a3-4787-8c5e-437ee17c4ef7",
   "metadata": {},
   "outputs": [
    {
     "name": "stdout",
     "output_type": "stream",
     "text": [
      "12-03-2024\n"
     ]
    }
   ],
   "source": [
    "!date \"+%d-%m-%Y\""
   ]
  },
  {
   "cell_type": "markdown",
   "id": "055d707f-cb5e-475b-8b54-8bc8f392311c",
   "metadata": {},
   "source": [
    "### Challenge #2\n",
    "\n",
    "How to display the time as well? \n",
    "\n",
    "Example: 2024-03-12 00:40:39\n",
    "\n",
    "Tips:\n",
    "<img src=\"images/date_parameters.png\" />\n",
    "[Reference](https://man7.org/linux/man-pages/man1/date.1.html)"
   ]
  },
  {
   "cell_type": "code",
   "execution_count": 4,
   "id": "1cab0bdb-86d6-4587-8f96-7f9a1339319c",
   "metadata": {},
   "outputs": [
    {
     "name": "stdout",
     "output_type": "stream",
     "text": [
      "2024-03-12\n"
     ]
    }
   ],
   "source": [
    "# Change this to display yyyy-mm-dd hh:mm:ss\n",
    "!date \"+%Y-%m-%d\""
   ]
  },
  {
   "cell_type": "markdown",
   "id": "b4677b77-24fa-451b-88d4-d2de7a053560",
   "metadata": {
    "jp-MarkdownHeadingCollapsed": true
   },
   "source": [
    "#### Answer"
   ]
  },
  {
   "cell_type": "code",
   "execution_count": 5,
   "id": "6cae6987-c0b1-4c0e-b846-c4ed5591d7ea",
   "metadata": {},
   "outputs": [
    {
     "name": "stdout",
     "output_type": "stream",
     "text": [
      "2024-03-12 00:41:37\n"
     ]
    }
   ],
   "source": [
    "!date \"+%Y-%m-%d %H:%M:%S\""
   ]
  },
  {
   "cell_type": "markdown",
   "id": "ab3c391f-5048-4676-b86d-3b2565a66d3a",
   "metadata": {},
   "source": [
    "## More commands"
   ]
  },
  {
   "cell_type": "markdown",
   "id": "2b94e068-c6ca-4f1e-b324-8d55b5822192",
   "metadata": {},
   "source": [
    "### free\n",
    "- Shows how much memory (RAM) is free and used on your computer\n",
    "- The `-m` flag displays the numbers in megabytes (MB) for easier reading."
   ]
  },
  {
   "cell_type": "code",
   "execution_count": 3,
   "id": "0601454e-aabc-490a-856e-f8bc109510a2",
   "metadata": {},
   "outputs": [
    {
     "name": "stdout",
     "output_type": "stream",
     "text": [
      "               total        used        free      shared  buff/cache   available\n",
      "Mem:            3744         440        2608          35         694        3192\n",
      "Swap:           1742           0        1742\n"
     ]
    }
   ],
   "source": [
    "!free -m"
   ]
  },
  {
   "cell_type": "markdown",
   "id": "873f9cfd-d068-425f-a34b-adeeebc3083f",
   "metadata": {},
   "source": [
    "### df\n",
    "\n",
    "- displays the amount of disk space used and available on your file systems\n",
    "- The `-h` flag shows the sizes in a human-readable format "
   ]
  },
  {
   "cell_type": "code",
   "execution_count": 4,
   "id": "1bbb0bfd-7f1d-492a-9f0d-5e60c6aa9e42",
   "metadata": {},
   "outputs": [
    {
     "name": "stdout",
     "output_type": "stream",
     "text": [
      "Filesystem      Size  Used Avail Use% Mounted on\n",
      "/dev/root        12G  9.3G  1.8G  85% /\n",
      "devtmpfs        1.6G     0  1.6G   0% /dev\n",
      "tmpfs           1.9G     0  1.9G   0% /dev/shm\n",
      "tmpfs           749M  1.2M  748M   1% /run\n",
      "tmpfs           5.0M  4.0K  5.0M   1% /run/lock\n",
      "/dev/mmcblk0p1  255M   31M  225M  13% /boot\n",
      "tmpfs           375M   20K  375M   1% /run/user/1000\n"
     ]
    }
   ],
   "source": [
    "!df -h"
   ]
  },
  {
   "cell_type": "markdown",
   "id": "11eaa024-286e-45b7-8ad8-f9c621e9a86f",
   "metadata": {},
   "source": [
    "### poweroff"
   ]
  },
  {
   "cell_type": "code",
   "execution_count": null,
   "id": "424196d9-e5fd-4650-8ea8-66a822da55ef",
   "metadata": {},
   "outputs": [],
   "source": [
    "!poweroff"
   ]
  },
  {
   "cell_type": "markdown",
   "id": "f7c25654-08f6-495d-892d-ad7f6510a3ae",
   "metadata": {},
   "source": [
    "## Challenge\n",
    "\n",
    "- How do you run the poweroff command successfully?\n",
    "- We will not provide an answer here. Check the internet."
   ]
  },
  {
   "cell_type": "markdown",
   "id": "b95196ff-c584-432b-a1d7-9b553fdb28e4",
   "metadata": {},
   "source": [
    "## Install a game - pacman"
   ]
  },
  {
   "cell_type": "code",
   "execution_count": null,
   "id": "0984fd71-41a7-4ef8-8161-312bd343b8c5",
   "metadata": {},
   "outputs": [],
   "source": [
    "!sudo apt-get install pacman4console"
   ]
  },
  {
   "cell_type": "markdown",
   "id": "30bec8de-56c2-45bf-bd07-9c5d81f422d9",
   "metadata": {},
   "source": [
    "## Launch terminal and run pacman\n",
    "\n",
    "Now, open a terminal and type pacman4console"
   ]
  },
  {
   "cell_type": "markdown",
   "id": "9a588596-34a1-4ddb-ae0c-30d0c635471e",
   "metadata": {},
   "source": [
    "### 1. Click the + button on the upper left corner\n",
    "\n",
    "<img src=\"images/jupyter_launch_button.png\" width=500 />"
   ]
  },
  {
   "cell_type": "markdown",
   "id": "b09ca6b6-d208-4d3a-8c9a-782b38eb4f36",
   "metadata": {},
   "source": [
    "### 2. Click Terminal\n",
    "\n",
    "<img src=\"images/jupyter_terminal_button.png\" width=500 />"
   ]
  },
  {
   "cell_type": "markdown",
   "id": "d7646222-2e48-469a-827d-42066d988c75",
   "metadata": {},
   "source": [
    "### 3.Type pacman4console"
   ]
  },
  {
   "cell_type": "markdown",
   "id": "176c1226-43d2-47c9-a59f-a5ff63f5c24d",
   "metadata": {},
   "source": [
    "<img src=\"images/jupyter_terminal_pacman4console.png\" width=500 />"
   ]
  },
  {
   "cell_type": "markdown",
   "id": "16a0a4ad-d945-4f1b-9407-800cde00c218",
   "metadata": {},
   "source": [
    "### 4. Enjoy!"
   ]
  },
  {
   "cell_type": "markdown",
   "id": "e27e33a5-0c5d-4d01-9964-c1c2999b5ae2",
   "metadata": {},
   "source": [
    "<img src=\"images/jupyter_pacman4console.png\" width=500 />"
   ]
  }
 ],
 "metadata": {
  "kernelspec": {
   "display_name": "Python 3 (ipykernel)",
   "language": "python",
   "name": "python3"
  },
  "language_info": {
   "codemirror_mode": {
    "name": "ipython",
    "version": 3
   },
   "file_extension": ".py",
   "mimetype": "text/x-python",
   "name": "python",
   "nbconvert_exporter": "python",
   "pygments_lexer": "ipython3",
   "version": "3.9.2"
  }
 },
 "nbformat": 4,
 "nbformat_minor": 5
}
