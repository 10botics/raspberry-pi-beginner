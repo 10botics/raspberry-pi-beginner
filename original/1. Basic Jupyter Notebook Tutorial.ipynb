{
 "cells": [
  {
   "cell_type": "markdown",
   "id": "7432db13-3c80-4273-8727-0a3202080290",
   "metadata": {},
   "source": [
    "# Basic Jupyter Notebook Tutorial"
   ]
  },
  {
   "cell_type": "markdown",
   "id": "03ca6f2d-320a-402d-832f-b2c38b4b4d4b",
   "metadata": {},
   "source": [
    "## Types of cell\n",
    "\n",
    "There are two types of cell in a jupyter notebook.\n",
    "1. Text cell\n",
    "2. Code cell\n",
    "\n",
    "Most of the time, you read a `text cell` and run the code in a `code cell`"
   ]
  },
  {
   "cell_type": "markdown",
   "id": "d83e65db-f33c-4a2f-b157-670578da4186",
   "metadata": {},
   "source": [
    "### Text cell"
   ]
  },
  {
   "cell_type": "markdown",
   "id": "573180a5-0f1c-46eb-967b-57ab6adc15d4",
   "metadata": {},
   "source": [
    "I am a text cell. You cannot run me. "
   ]
  },
  {
   "cell_type": "markdown",
   "id": "0f6f5f40-b237-4768-881d-55df3b23368c",
   "metadata": {},
   "source": [
    "### Code cell"
   ]
  },
  {
   "cell_type": "code",
   "execution_count": null,
   "id": "a203b95d-44ba-4fb2-a66d-8cc3d43dbfff",
   "metadata": {},
   "outputs": [],
   "source": [
    "print(\"I am a code cell. You can run me\")"
   ]
  },
  {
   "cell_type": "markdown",
   "id": "13652587-d381-46bd-b243-fd3c444920d5",
   "metadata": {},
   "source": [
    "**Important notes**\n",
    "\n",
    "By default, jupyter assume the code is written in `python`"
   ]
  },
  {
   "cell_type": "markdown",
   "id": "ece08beb-4c5f-4323-9b15-ebad15c92772",
   "metadata": {},
   "source": [
    "## Run a code cell"
   ]
  },
  {
   "cell_type": "markdown",
   "id": "c0183cd3-fcf3-4e41-b590-15442b53cc77",
   "metadata": {},
   "source": [
    "### Using the toolbar button\n",
    "\n",
    "To run a code cell:\n",
    "\n",
    "1. Move your mouse cursor to select the cell below\n",
    "2. Use the toolbar above and hit the run button\n",
    "![run](images/jupyter_toolbar_run.png)\n",
    "\n"
   ]
  },
  {
   "cell_type": "code",
   "execution_count": null,
   "id": "55e31f5f-cf28-44b3-adf6-f72c128d1114",
   "metadata": {},
   "outputs": [],
   "source": [
    "print(\"Congratulation! You run this cell\")"
   ]
  },
  {
   "cell_type": "markdown",
   "id": "8240a831-cef1-44e0-a406-390596ac7144",
   "metadata": {},
   "source": [
    "### Using the keyboard shortcut\n",
    "\n",
    "Select the cell again. Try hit `Ctrl+Enter` on the keyboard to run the cell again."
   ]
  },
  {
   "cell_type": "code",
   "execution_count": null,
   "id": "b1ceeedd-9757-473f-8098-ece8e562b2d2",
   "metadata": {},
   "outputs": [],
   "source": [
    "print(\"Congratulation! You run this cell using keyboard shortcut\")"
   ]
  },
  {
   "cell_type": "markdown",
   "id": "63e66e92-f3d4-408b-ba03-d642965a1fdc",
   "metadata": {},
   "source": [
    "### Execution numbering"
   ]
  },
  {
   "cell_type": "markdown",
   "id": "18bb4676-e86c-49fb-89b1-2a858a8907e9",
   "metadata": {},
   "source": [
    "On the left hand side of the cell, there is a bracket showing the execution status and numbering.\n",
    "\n",
    "- When the code finishes running, it will show `[n]`, where n is a number\n",
    "\n",
    "<img src=\"images/jupyter_execution_count.png\" width=200 />"
   ]
  },
  {
   "cell_type": "markdown",
   "id": "2ca1c2d3-3f84-4d30-b0e5-1b0ecea94758",
   "metadata": {},
   "source": [
    "Now try run the cell below multiple times, observe how the number changes. You can either use `Ctrl+Enter` or hit the run button."
   ]
  },
  {
   "cell_type": "code",
   "execution_count": null,
   "id": "1ccaca3d-38e5-4651-8427-e441a99719bf",
   "metadata": {},
   "outputs": [],
   "source": [
    "print(\"Congratulation! You run this cell using keyboard shortcut\")"
   ]
  },
  {
   "cell_type": "markdown",
   "id": "daba7fb7-7c27-4dc0-ada3-bd33d730d333",
   "metadata": {},
   "source": [
    "### Execution status"
   ]
  },
  {
   "cell_type": "markdown",
   "id": "255b7203-5ed3-4cb2-9b3e-d7fd4a2821b0",
   "metadata": {},
   "source": [
    "When the code is running, the execution will show `[*]` instead of a number. Let's see an example."
   ]
  },
  {
   "cell_type": "code",
   "execution_count": null,
   "id": "dc5dfb4d-9449-408f-b322-97cee78e610c",
   "metadata": {},
   "outputs": [],
   "source": [
    "import time \n",
    "\n",
    "print(\"Start. A * should show\")\n",
    "time.sleep(5)\n",
    "print(\"Stop. A number should show.\")\n"
   ]
  },
  {
   "cell_type": "markdown",
   "id": "1e678319-9ec2-4120-91cd-8c7846dd1c1d",
   "metadata": {},
   "source": [
    "## Stop execution"
   ]
  },
  {
   "cell_type": "markdown",
   "id": "424bdb2f-3316-4ff6-b791-4ddb2301320e",
   "metadata": {},
   "source": [
    "- Sometimes an error might cause a program to run forever.\n",
    "- To stop the cell from running, use the stop button from the toolbar\n",
    "\n",
    "Below is a sample program that runs forever, stop it using the stop button\n",
    "\n",
    "<img src=\"images/jupyter_toolbar_stop.png\" width=500 />"
   ]
  },
  {
   "cell_type": "code",
   "execution_count": null,
   "id": "896b830d-9ef1-475c-ad64-dfebc501ca9b",
   "metadata": {},
   "outputs": [],
   "source": [
    "import time\n",
    "\n",
    "while True:\n",
    "    print(\"I won't stop. You need to press the stop button to stop me.\")\n",
    "    time.sleep(1)    "
   ]
  },
  {
   "cell_type": "markdown",
   "id": "def5e48a-4e3b-48dd-9c6b-b99e10723ba1",
   "metadata": {},
   "source": [
    "## Restart the notebook runtime"
   ]
  },
  {
   "cell_type": "markdown",
   "id": "209f9e2d-c600-4b1e-a4cb-763baac59b42",
   "metadata": {},
   "source": [
    "In some rare case, the whole notebook might go crazy. You want to restart the kernel.\n",
    "\n",
    "<img src=\"images/jupyter_toolbar_restart.png\" width=500 />"
   ]
  },
  {
   "cell_type": "markdown",
   "id": "de77a8f5-fd21-449e-8ccd-e97f75cc75ee",
   "metadata": {},
   "source": [
    "Now click the restart button and you will see this warning\n",
    "\n",
    "<img src=\"images/jupyter_toolbar_restart_prompt.png\" width=500 />"
   ]
  },
  {
   "cell_type": "markdown",
   "id": "b2f50101-379e-4b6b-b7f7-0b633c23f046",
   "metadata": {},
   "source": [
    "Click restart and you notebook runtime will be restarted."
   ]
  }
 ],
 "metadata": {
  "kernelspec": {
   "display_name": "Python 3 (ipykernel)",
   "language": "python",
   "name": "python3"
  },
  "language_info": {
   "codemirror_mode": {
    "name": "ipython",
    "version": 3
   },
   "file_extension": ".py",
   "mimetype": "text/x-python",
   "name": "python",
   "nbconvert_exporter": "python",
   "pygments_lexer": "ipython3",
   "version": "3.9.2"
  }
 },
 "nbformat": 4,
 "nbformat_minor": 5
}
