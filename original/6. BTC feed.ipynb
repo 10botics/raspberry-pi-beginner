{
 "cells": [
  {
   "cell_type": "markdown",
   "id": "d3a3a714-349c-4f1e-a9ac-732e3546dcc1",
   "metadata": {},
   "source": [
    "# BTC Price Feed"
   ]
  },
  {
   "cell_type": "markdown",
   "id": "98d870e7-b692-49dc-8317-d4b4abf80871",
   "metadata": {},
   "source": [
    "In this lesson, you will learn:\n",
    "\n",
    "1. Call API to get BTC Price"
   ]
  },
  {
   "cell_type": "markdown",
   "id": "b1f445fe-39fb-433c-b5d3-292eaa34af2f",
   "metadata": {},
   "source": [
    "## Call API to get BTC price\n",
    "\n",
    "Reference: https://cryptocointracker.com/api/coindesk"
   ]
  },
  {
   "cell_type": "code",
   "execution_count": 30,
   "id": "af5fe929-f5fa-463c-8a8d-71ae196948d3",
   "metadata": {},
   "outputs": [
    {
     "name": "stdout",
     "output_type": "stream",
     "text": [
      "{'time': {'updated': 'Apr 23, 2024 10:57:46 UTC', 'updatedISO': '2024-04-23T10:57:46+00:00', 'updateduk': 'Apr 23, 2024 at 11:57 BST'}, 'disclaimer': 'This data was produced from the CoinDesk Bitcoin Price Index (USD). Non-USD currency data converted using hourly conversion rate from openexchangerates.org', 'chartName': 'Bitcoin', 'bpi': {'USD': {'code': 'USD', 'symbol': '&#36;', 'rate': '66,339.372', 'description': 'United States Dollar', 'rate_float': 66339.3723}, 'GBP': {'code': 'GBP', 'symbol': '&pound;', 'rate': '53,671.471', 'description': 'British Pound Sterling', 'rate_float': 53671.4711}, 'EUR': {'code': 'EUR', 'symbol': '&euro;', 'rate': '62,236.349', 'description': 'Euro', 'rate_float': 62236.3485}}}\n"
     ]
    }
   ],
   "source": [
    "import requests\n",
    "\n",
    "response = requests.get('https://api.coindesk.com/v1/bpi/currentprice.json')\n",
    "data = response.json()\n",
    "print(data)"
   ]
  },
  {
   "cell_type": "markdown",
   "id": "d3b3e620-7012-4603-886a-315ad7f8dabb",
   "metadata": {},
   "source": [
    "### Pretty print"
   ]
  },
  {
   "cell_type": "code",
   "execution_count": 31,
   "id": "57748dba-cb1d-4548-a7a4-b27e0b38b56e",
   "metadata": {},
   "outputs": [
    {
     "data": {
      "application/json": {
       "bpi": {
        "EUR": {
         "code": "EUR",
         "description": "Euro",
         "rate": "62,236.349",
         "rate_float": 62236.3485,
         "symbol": "&euro;"
        },
        "GBP": {
         "code": "GBP",
         "description": "British Pound Sterling",
         "rate": "53,671.471",
         "rate_float": 53671.4711,
         "symbol": "&pound;"
        },
        "USD": {
         "code": "USD",
         "description": "United States Dollar",
         "rate": "66,339.372",
         "rate_float": 66339.3723,
         "symbol": "&#36;"
        }
       },
       "chartName": "Bitcoin",
       "disclaimer": "This data was produced from the CoinDesk Bitcoin Price Index (USD). Non-USD currency data converted using hourly conversion rate from openexchangerates.org",
       "time": {
        "updated": "Apr 23, 2024 10:57:46 UTC",
        "updatedISO": "2024-04-23T10:57:46+00:00",
        "updateduk": "Apr 23, 2024 at 11:57 BST"
       }
      },
      "text/plain": [
       "<IPython.core.display.JSON object>"
      ]
     },
     "execution_count": 31,
     "metadata": {
      "application/json": {
       "expanded": false,
       "root": "root"
      }
     },
     "output_type": "execute_result"
    }
   ],
   "source": [
    "from IPython.display import JSON\n",
    "JSON(data)"
   ]
  },
  {
   "cell_type": "markdown",
   "id": "057d8ab3-c798-4e88-a296-32e5b2c98f0b",
   "metadata": {},
   "source": [
    "### Accessing data in json"
   ]
  },
  {
   "cell_type": "code",
   "execution_count": 33,
   "id": "eb378f90-cd49-4d8b-a199-4cdf90ecb72c",
   "metadata": {},
   "outputs": [
    {
     "data": {
      "text/plain": [
       "'66,339.372'"
      ]
     },
     "execution_count": 33,
     "metadata": {},
     "output_type": "execute_result"
    }
   ],
   "source": [
    "data['bpi']['USD']['rate']"
   ]
  },
  {
   "cell_type": "code",
   "execution_count": 34,
   "id": "b236c71c-8586-4cb1-9724-a9fd1114281f",
   "metadata": {},
   "outputs": [
    {
     "data": {
      "text/plain": [
       "{'code': 'USD',\n",
       " 'symbol': '&#36;',\n",
       " 'rate': '66,339.372',\n",
       " 'description': 'United States Dollar',\n",
       " 'rate_float': 66339.3723}"
      ]
     },
     "execution_count": 34,
     "metadata": {},
     "output_type": "execute_result"
    }
   ],
   "source": [
    "data['bpi']['USD']"
   ]
  },
  {
   "cell_type": "markdown",
   "id": "29e76961-14f1-41db-ad7c-9448404d23c3",
   "metadata": {},
   "source": [
    "## Assign the value to a variable"
   ]
  },
  {
   "cell_type": "code",
   "execution_count": null,
   "id": "0ea2ff87-ee9d-4fd4-a457-04079c035679",
   "metadata": {},
   "outputs": [],
   "source": [
    "usd_price_str = ????"
   ]
  },
  {
   "cell_type": "markdown",
   "id": "d2c60855-8042-480c-b98b-5a87cff67705",
   "metadata": {},
   "source": [
    "### Answer"
   ]
  },
  {
   "cell_type": "code",
   "execution_count": 36,
   "id": "116189a3-2cba-47e7-b0fa-35f8b3ce8bf7",
   "metadata": {},
   "outputs": [
    {
     "data": {
      "text/plain": [
       "'66,339.372'"
      ]
     },
     "execution_count": 36,
     "metadata": {},
     "output_type": "execute_result"
    }
   ],
   "source": [
    "usd_price_str = data['bpi']['USD']['rate']\n",
    "usd_price_str"
   ]
  },
  {
   "cell_type": "markdown",
   "id": "dcdea34e-48db-4eee-9525-2e43ee0b3fb5",
   "metadata": {},
   "source": [
    "## Data type and conversion"
   ]
  },
  {
   "cell_type": "markdown",
   "id": "bdc4c445-c8d2-42af-8147-b12ded5cf921",
   "metadata": {},
   "source": [
    "What is the data type of `usd_price_str`?"
   ]
  },
  {
   "cell_type": "code",
   "execution_count": 37,
   "id": "4d2a7746-ff4f-43c5-8bb9-a981fa98e092",
   "metadata": {},
   "outputs": [
    {
     "data": {
      "text/plain": [
       "str"
      ]
     },
     "execution_count": 37,
     "metadata": {},
     "output_type": "execute_result"
    }
   ],
   "source": [
    "type(usd_price_str)"
   ]
  },
  {
   "cell_type": "markdown",
   "id": "2464dcd2-4f7a-49e1-ac2c-ef5643444466",
   "metadata": {},
   "source": [
    "### Why `str` is not good?"
   ]
  },
  {
   "cell_type": "code",
   "execution_count": 38,
   "id": "c143ffcf-94c2-4122-a34b-aed4f1673305",
   "metadata": {},
   "outputs": [
    {
     "data": {
      "text/plain": [
       "'66,339.37266,339.372'"
      ]
     },
     "execution_count": 38,
     "metadata": {},
     "output_type": "execute_result"
    }
   ],
   "source": [
    "usd_price_str + usd_price_str"
   ]
  },
  {
   "cell_type": "markdown",
   "id": "81686a61-aa73-48df-bc2f-41dc7d67d210",
   "metadata": {},
   "source": [
    "### Convert to float example"
   ]
  },
  {
   "cell_type": "code",
   "execution_count": 43,
   "id": "f1776f99-2082-4bb6-96dd-7e5bad6b53d4",
   "metadata": {},
   "outputs": [
    {
     "data": {
      "text/plain": [
       "123.34"
      ]
     },
     "execution_count": 43,
     "metadata": {},
     "output_type": "execute_result"
    }
   ],
   "source": [
    "float(\"123.34\")"
   ]
  },
  {
   "cell_type": "code",
   "execution_count": 42,
   "id": "7d8a85ac-84f8-458f-8bee-820c5547e4af",
   "metadata": {},
   "outputs": [
    {
     "data": {
      "text/plain": [
       "12345.0"
      ]
     },
     "execution_count": 42,
     "metadata": {},
     "output_type": "execute_result"
    }
   ],
   "source": [
    "float(\"12345\")"
   ]
  },
  {
   "cell_type": "markdown",
   "id": "85b0c01b-bec9-4d8d-bb76-3cee6d635f3a",
   "metadata": {},
   "source": [
    "### Convert the value to float\n",
    "\n",
    "Add the line to convert the bitcoin price from `str` to `float`"
   ]
  },
  {
   "cell_type": "code",
   "execution_count": null,
   "id": "c4bc6419-117a-4767-b253-3224d601c5a4",
   "metadata": {},
   "outputs": [],
   "source": []
  },
  {
   "cell_type": "markdown",
   "id": "772dba5f-b6f1-4554-8de7-f3f6b1135230",
   "metadata": {},
   "source": [
    "### What's wrong? \n",
    "\n",
    "What is the problem? Fix the code below to convert to float properly"
   ]
  },
  {
   "cell_type": "code",
   "execution_count": 39,
   "id": "50ddcc28-2156-4e20-9d94-93bc1f632e74",
   "metadata": {},
   "outputs": [
    {
     "ename": "ValueError",
     "evalue": "could not convert string to float: '66,339.372'",
     "output_type": "error",
     "traceback": [
      "\u001b[0;31m---------------------------------------------------------------------------\u001b[0m",
      "\u001b[0;31mValueError\u001b[0m                                Traceback (most recent call last)",
      "Cell \u001b[0;32mIn[39], line 1\u001b[0m\n\u001b[0;32m----> 1\u001b[0m \u001b[38;5;28;43mfloat\u001b[39;49m\u001b[43m(\u001b[49m\u001b[43musd_price_str\u001b[49m\u001b[43m)\u001b[49m\n",
      "\u001b[0;31mValueError\u001b[0m: could not convert string to float: '66,339.372'"
     ]
    }
   ],
   "source": [
    "float(usd_price_str)"
   ]
  },
  {
   "cell_type": "markdown",
   "id": "88654ba7-2286-44a2-8577-7aeb6c620be7",
   "metadata": {},
   "source": [
    "### Hint \n",
    "\n",
    "There is a function called `replace(oldvalue, newvalue)`"
   ]
  },
  {
   "cell_type": "code",
   "execution_count": null,
   "id": "72a15181-1985-4d4e-8d25-892b7126159e",
   "metadata": {},
   "outputs": [],
   "source": [
    "s = \"I am a boy\"\n",
    "s.replace(\"boy\",\"girl\")"
   ]
  },
  {
   "cell_type": "markdown",
   "id": "98e325d0-2768-431d-9b4b-b6223874608f",
   "metadata": {},
   "source": [
    "### Answer"
   ]
  },
  {
   "cell_type": "code",
   "execution_count": 45,
   "id": "8b8adb17-a06f-4e50-85ae-ec3d7c65b5d5",
   "metadata": {},
   "outputs": [
    {
     "name": "stdout",
     "output_type": "stream",
     "text": [
      "66339.372\n"
     ]
    }
   ],
   "source": [
    "usd_price = float(usd_price_str.replace(',', ''))\n",
    "\n",
    "print(usd_price)"
   ]
  },
  {
   "cell_type": "code",
   "execution_count": 46,
   "id": "8e1afe61-beba-443f-9490-f570fa5b5038",
   "metadata": {},
   "outputs": [
    {
     "data": {
      "text/plain": [
       "float"
      ]
     },
     "execution_count": 46,
     "metadata": {},
     "output_type": "execute_result"
    }
   ],
   "source": [
    "type(usd_price)"
   ]
  },
  {
   "cell_type": "code",
   "execution_count": 47,
   "id": "fc8d8e10-5ff2-497b-879d-07f5d2296d10",
   "metadata": {},
   "outputs": [
    {
     "data": {
      "text/plain": [
       "132678.744"
      ]
     },
     "execution_count": 47,
     "metadata": {},
     "output_type": "execute_result"
    }
   ],
   "source": [
    "usd_price+usd_price"
   ]
  },
  {
   "cell_type": "markdown",
   "id": "c8aa1f66-19fa-44f1-bbd1-7fb8c792ff7b",
   "metadata": {},
   "source": [
    "## Display the price on the OLED\n",
    "\n",
    "<img src=\"../images/btc_btcusd.jpeg\" width=300/>"
   ]
  },
  {
   "cell_type": "markdown",
   "id": "ce5d54f7-d2fd-4466-8392-1fe5f5c0e092",
   "metadata": {},
   "source": [
    "### Setup the OLED screen"
   ]
  },
  {
   "cell_type": "code",
   "execution_count": null,
   "id": "9bba4e1d-9a81-437e-8653-de40dcb2a719",
   "metadata": {},
   "outputs": [],
   "source": [
    "from luma.core.interface.serial import i2c, spi, pcf8574\n",
    "from luma.core.interface.parallel import bitbang_6800\n",
    "from luma.core.render import canvas\n",
    "from luma.oled.device import ssd1306, ssd1309, ssd1325, ssd1331, sh1106, ws0010\n",
    "from PIL import ImageFont\n",
    "import time\n",
    "\n",
    "serial = i2c(port=1, address=0x3C)\n",
    "\n",
    "device = sh1106(serial)"
   ]
  },
  {
   "cell_type": "code",
   "execution_count": null,
   "id": "92397d99-9183-414e-a7f4-560547edb825",
   "metadata": {},
   "outputs": [],
   "source": [
    "# With reference to world clock, display the BTC price here\n",
    "\n",
    "with canvas(device) as draw:\n",
    "    draw.rectangle(device.bounding_box, outline=\"white\", fill=\"black\")"
   ]
  },
  {
   "cell_type": "markdown",
   "id": "222d996c-5c86-4631-aac3-11a6c411e438",
   "metadata": {},
   "source": [
    "### Answer"
   ]
  },
  {
   "cell_type": "code",
   "execution_count": null,
   "id": "97c0b243-e91a-40e2-9e3c-c80d05766f65",
   "metadata": {},
   "outputs": [],
   "source": [
    "with canvas(device) as draw:\n",
    "    draw.rectangle(device.bounding_box, outline=\"white\", fill=\"black\")\n",
    "    draw.text((0, 0), f\"BTCUSD: {usd_price}\", fill=\"white\")"
   ]
  },
  {
   "cell_type": "markdown",
   "id": "564aace3-33dd-4324-84bb-1a2618cf7fca",
   "metadata": {},
   "source": [
    "## Display without the decimal value\n",
    "\n",
    "<img src=\"../images/btc_no_decimal.jpeg\" width=300/>"
   ]
  },
  {
   "cell_type": "code",
   "execution_count": null,
   "id": "e9b0e99b-02c9-4848-be01-826571569ae5",
   "metadata": {},
   "outputs": [],
   "source": [
    "formatted_number = f\"{usd_price:.1f}\"\n",
    "print(formatted_number)"
   ]
  },
  {
   "cell_type": "markdown",
   "id": "1ce55390-2e8b-4b92-a96d-f009383b1ea2",
   "metadata": {},
   "source": [
    "### Quiz\n",
    "- Modify the code so that the price does not contain decimal value"
   ]
  },
  {
   "cell_type": "code",
   "execution_count": null,
   "id": "9a9aa8c4-f074-423b-be68-064b5af2fe5e",
   "metadata": {},
   "outputs": [],
   "source": [
    "formatted_number = f\"{usd_price:.1f}\"\n",
    "\n",
    "with canvas(device) as draw:\n",
    "    draw.rectangle(device.bounding_box, outline=\"white\", fill=\"black\")"
   ]
  },
  {
   "cell_type": "markdown",
   "id": "4a97161f-beb0-4c09-ae34-63b7b696fec1",
   "metadata": {},
   "source": [
    "### Answer"
   ]
  },
  {
   "cell_type": "code",
   "execution_count": null,
   "id": "3dfee52a-7b76-4766-bb64-392f87e71093",
   "metadata": {},
   "outputs": [],
   "source": [
    "formatted_number = f\"{usd_price:.0f}\"\n",
    "\n",
    "with canvas(device) as draw:\n",
    "    draw.rectangle(device.bounding_box, outline=\"white\", fill=\"black\")\n",
    "    draw.text((0, 0), f\"BTCUSD: {formatted_number}\", fill=\"white\")"
   ]
  },
  {
   "cell_type": "markdown",
   "id": "5fbde0d4-41bb-4c67-995e-e1f0547c8c6b",
   "metadata": {},
   "source": [
    "## Challenge 1 - Add an interesting bitcoin logo\n",
    "\n",
    "<img src=\"../images/btc_logo.jpeg\" width=300/>"
   ]
  },
  {
   "cell_type": "markdown",
   "id": "46161341-cf5f-4133-b2d9-a5aa648539be",
   "metadata": {},
   "source": [
    "Try the following code:"
   ]
  },
  {
   "cell_type": "code",
   "execution_count": null,
   "id": "8be08544-67c1-40ae-be6b-5e64a2e2954a",
   "metadata": {},
   "outputs": [],
   "source": [
    "with canvas(device) as draw:\n",
    "    draw.rectangle(device.bounding_box, outline=\"white\", fill=\"black\")\n",
    "    draw.text((0, 0), f\"₿\", fill=\"white\")"
   ]
  },
  {
   "cell_type": "markdown",
   "id": "0696e7b5-8937-4a73-b9b8-0ef078791f0b",
   "metadata": {},
   "source": [
    "Why this doesn't work? It is because we need a font\n",
    "\n",
    "What font support the \"₿\" character? Ask ChatGPT!"
   ]
  },
  {
   "cell_type": "code",
   "execution_count": null,
   "id": "410d5ca6-04d6-40c6-a698-d021a6bc5789",
   "metadata": {},
   "outputs": [],
   "source": [
    "### Changing font"
   ]
  },
  {
   "cell_type": "code",
   "execution_count": null,
   "id": "8b44c764-f732-462e-8b36-eac1228fb07d",
   "metadata": {},
   "outputs": [],
   "source": [
    "# Install the font\n",
    "\n",
    "sudo apt install fonts-noto-core"
   ]
  },
  {
   "cell_type": "code",
   "execution_count": null,
   "id": "ccb59f41-66b5-465e-aa01-d3af4b92af84",
   "metadata": {},
   "outputs": [],
   "source": [
    "with canvas(device) as draw:\n",
    "    draw.rectangle(device.bounding_box, outline=\"white\", fill=\"black\")\n",
    "    draw.text((0, 0), f\"₿\", fill=\"white\")"
   ]
  },
  {
   "cell_type": "markdown",
   "id": "8e6e1c69-dc40-43e8-8627-2b528d8ad65d",
   "metadata": {},
   "source": [
    "### Answer"
   ]
  },
  {
   "cell_type": "code",
   "execution_count": 54,
   "id": "f87f6606-385a-4b4b-9b56-694226820557",
   "metadata": {},
   "outputs": [],
   "source": [
    "from PIL import ImageFont\n",
    "\n",
    "fnt = ImageFont.truetype('/usr/share/fonts/truetype/noto/NotoSans-Regular.ttf',36) \n",
    "\n",
    "with canvas(device) as draw:\n",
    "    draw.rectangle(device.bounding_box, outline=\"white\", fill=\"black\")\n",
    "    draw.text((50, 0), f\"₿\", fill=\"white\", font=fnt)\n",
    "    draw.text((25, 45), f\"BTCUSD: {formatted_number}\", fill=\"white\")"
   ]
  },
  {
   "cell_type": "markdown",
   "id": "9b05eae3-dabb-436e-b7e7-c6338c8ed9c1",
   "metadata": {},
   "source": [
    "## Challenge 2 - Retrieve the price from another API endpoint\n",
    "\n",
    "https://cex.io/rest-api#ticker"
   ]
  },
  {
   "cell_type": "code",
   "execution_count": null,
   "id": "f80b8872-d022-41ec-b273-c8fac701897e",
   "metadata": {},
   "outputs": [],
   "source": [
    "response = requests.get(\"???????\")\n",
    "data = response.json()\n",
    "print(data)"
   ]
  },
  {
   "cell_type": "markdown",
   "id": "28ac9f33-32af-4c46-948e-808709613fe8",
   "metadata": {},
   "source": [
    "### Answer"
   ]
  },
  {
   "cell_type": "code",
   "execution_count": 57,
   "id": "d5b6e43d-1529-4b10-ae41-8a9e1cf9673e",
   "metadata": {},
   "outputs": [
    {
     "name": "stdout",
     "output_type": "stream",
     "text": [
      "{'timestamp': '1713872646', 'low': '66000', 'high': '67000', 'last': '66000', 'volume': '0.02944166', 'volume30d': '34.94242716', 'bid': 65700.1, 'ask': 65940.5, 'priceChange': '-171.6', 'priceChangePercentage': '-0.26', 'pair': 'BTC:USD'}\n"
     ]
    }
   ],
   "source": [
    "response = requests.get('https://cex.io/api/ticker/BTC/USD')\n",
    "data = response.json()\n",
    "print(data)"
   ]
  },
  {
   "cell_type": "code",
   "execution_count": 69,
   "id": "dfa8e9af-18b6-4207-9ee5-0f21b4e35f52",
   "metadata": {},
   "outputs": [
    {
     "data": {
      "application/json": {
       "ask": 3230,
       "bid": 3170.68,
       "high": "3218",
       "last": "3196.14",
       "low": "3190",
       "pair": "ETH:USD",
       "priceChange": "6.14",
       "priceChangePercentage": "0.19",
       "timestamp": "1713872909",
       "volume": "1.10166100",
       "volume30d": "1135.21718100"
      },
      "text/plain": [
       "<IPython.core.display.JSON object>"
      ]
     },
     "execution_count": 69,
     "metadata": {
      "application/json": {
       "expanded": false,
       "root": "root"
      }
     },
     "output_type": "execute_result"
    }
   ],
   "source": [
    "from IPython.display import JSON\n",
    "JSON(data)"
   ]
  },
  {
   "cell_type": "markdown",
   "id": "3c74ce83-b2ab-4dbc-b028-ce611feb7c63",
   "metadata": {},
   "source": [
    "### Challenge 3 - Display both BTC and ETH price\n",
    "\n",
    "<img src=\"../images/btc_btc_eth.jpeg\" width=300/>"
   ]
  },
  {
   "cell_type": "code",
   "execution_count": 68,
   "id": "a828f53a-390d-42a2-8c37-268b34d732ad",
   "metadata": {},
   "outputs": [],
   "source": [
    "response = requests.get('https://cex.io/api/ticker/BTC/USD')\n",
    "data = response.json()\n",
    "btc_price = float(data['last'])\n",
    "\n",
    "response = requests.get('https://cex.io/api/ticker/ETH/USD')\n",
    "data = response.json()\n",
    "eth_price = float(data['last'])\n",
    "\n",
    "fnt = ImageFont.truetype('/usr/share/fonts/truetype/noto/NotoSans-Regular.ttf',28) \n",
    "\n",
    "with canvas(device) as draw:\n",
    "    draw.rectangle(device.bounding_box, outline=\"white\", fill=\"black\")\n",
    "    draw.text((40, 0), f\"₿ Ξ\", fill=\"white\", font=fnt)\n",
    "    draw.text((15, 35), f\"BTCUSD: {btc_price}\", fill=\"white\")\n",
    "    draw.text((15, 45), f\"ETHUSD: {eth_price}\", fill=\"white\")\n",
    "\n"
   ]
  },
  {
   "cell_type": "markdown",
   "id": "a7b80687-86f8-4e8b-8914-3185bfb6dfc2",
   "metadata": {},
   "source": [
    "## Challenge 4 - Send an email to yourself"
   ]
  },
  {
   "cell_type": "markdown",
   "id": "e24295e5-70c7-4670-8600-fb0b0982b6ec",
   "metadata": {},
   "source": [
    "### Open a terminal and install a mail server on your raspberry pi\n",
    "\n",
    "1. sudo apt install postfix\n",
    "2. Choose Internet site"
   ]
  },
  {
   "cell_type": "code",
   "execution_count": 83,
   "id": "e81a41bc-bb7c-4021-bfab-bbaf5041e8c1",
   "metadata": {},
   "outputs": [],
   "source": [
    "import smtplib\n",
    "\n",
    "# Connect to email server\n",
    "server = smtplib.SMTP('localhost', 25)"
   ]
  },
  {
   "cell_type": "code",
   "execution_count": 86,
   "id": "e33b4aba-6486-41c1-8d4b-eea7a12af169",
   "metadata": {},
   "outputs": [],
   "source": [
    "from email.mime.text import MIMEText\n",
    "from email.mime.multipart import MIMEMultipart\n",
    "\n",
    "# Email credentials\n",
    "sender_email = \"\"\n",
    "receiver_email = \"\"\n",
    "\n",
    "# Create the email body\n",
    "message = MIMEMultipart()\n",
    "message[\"From\"] = sender_email\n",
    "message[\"To\"] = receiver_email\n",
    "message[\"Subject\"] = \"Your Subject Here\"\n",
    "body = \"This is an example of sending an email with Python.\"\n",
    "message.attach(MIMEText(body, \"plain\"))\n",
    "\n",
    "# Convert message to string\n",
    "email_text = message.as_string()"
   ]
  },
  {
   "cell_type": "code",
   "execution_count": 87,
   "id": "93b78c14-8fa6-4624-adc0-8267a62df7ad",
   "metadata": {},
   "outputs": [
    {
     "data": {
      "text/plain": [
       "{}"
      ]
     },
     "execution_count": 87,
     "metadata": {},
     "output_type": "execute_result"
    }
   ],
   "source": [
    "# Send the email\n",
    "server.sendmail(sender_email, receiver_email, email_text)"
   ]
  },
  {
   "cell_type": "code",
   "execution_count": null,
   "id": "ae9bdd13-b6cf-40fe-a402-966da3619bfa",
   "metadata": {},
   "outputs": [],
   "source": [
    "\n",
    "# Close the connection\n",
    "server.quit()"
   ]
  }
 ],
 "metadata": {
  "kernelspec": {
   "display_name": "Python 3 (ipykernel)",
   "language": "python",
   "name": "python3"
  },
  "language_info": {
   "codemirror_mode": {
    "name": "ipython",
    "version": 3
   },
   "file_extension": ".py",
   "mimetype": "text/x-python",
   "name": "python",
   "nbconvert_exporter": "python",
   "pygments_lexer": "ipython3",
   "version": "3.9.2"
  }
 },
 "nbformat": 4,
 "nbformat_minor": 5
}
