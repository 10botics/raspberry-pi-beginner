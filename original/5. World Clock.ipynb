{
 "cells": [
  {
   "cell_type": "markdown",
   "id": "d3a3a714-349c-4f1e-a9ac-732e3546dcc1",
   "metadata": {},
   "source": [
    "# World Clock"
   ]
  },
  {
   "cell_type": "markdown",
   "id": "98d870e7-b692-49dc-8317-d4b4abf80871",
   "metadata": {},
   "source": [
    "In this lesson, you will learn:\n",
    "\n",
    "1. Display local date and time\n",
    "2. Display date and time in other countries\n",
    "3. List all timezones using for loop\n",
    "4. Display the date and time on OLED screen\n",
    "5. Improve the user interface\n",
    "6. Refactor the code by using function\n",
    "7. Keep the clock running"
   ]
  },
  {
   "cell_type": "markdown",
   "id": "b1f445fe-39fb-433c-b5d3-292eaa34af2f",
   "metadata": {},
   "source": [
    "## Display local date and time"
   ]
  },
  {
   "cell_type": "code",
   "execution_count": null,
   "id": "af5fe929-f5fa-463c-8a8d-71ae196948d3",
   "metadata": {},
   "outputs": [],
   "source": [
    "import datetime\n",
    "\n",
    "now = datetime.datetime.now()\n",
    "fmt = '%Y-%m-%d %I:%M %S %p'\n",
    "print(now.strftime(fmt))"
   ]
  },
  {
   "cell_type": "markdown",
   "id": "6fc64faa-2899-432b-91b0-41e32dcab749",
   "metadata": {},
   "source": [
    "Formatting code: https://www.w3schools.com/python/python_datetime.asp"
   ]
  },
  {
   "cell_type": "markdown",
   "id": "153d89e3-c1e5-4bb3-87bf-e03726047508",
   "metadata": {},
   "source": [
    "## Display date and time in other countries"
   ]
  },
  {
   "cell_type": "code",
   "execution_count": null,
   "id": "ee340c15-ea7c-4bed-9db8-3ca2262d998b",
   "metadata": {},
   "outputs": [],
   "source": [
    "pip install pytz"
   ]
  },
  {
   "cell_type": "code",
   "execution_count": null,
   "id": "83ef9a1f-ceb8-44a6-a112-7e7512ba07da",
   "metadata": {},
   "outputs": [],
   "source": [
    "import pytz\n",
    "\n",
    "tz = pytz.timezone('America/New_York')\n",
    "tz_now = now.astimezone(tz)\n",
    "print(tz_now.strftime(fmt))"
   ]
  },
  {
   "cell_type": "markdown",
   "id": "c411d7b2-17de-4fca-a65b-a1b222e251b3",
   "metadata": {},
   "source": [
    "### Adding timezone information in output\n",
    "\n",
    "Modify the fmt variable to include timezone information in the output. Take reference to the formatting code again."
   ]
  },
  {
   "cell_type": "code",
   "execution_count": null,
   "id": "292aa34e-039d-49eb-892f-448e99254646",
   "metadata": {},
   "outputs": [],
   "source": [
    "fmt = '%Y-%m-%d %I:%M:%S %p'\n",
    "print(tz_now.strftime(fmt))"
   ]
  },
  {
   "cell_type": "markdown",
   "id": "c6f849bb-dc84-4392-90df-b308e0996671",
   "metadata": {},
   "source": [
    "#### Answer"
   ]
  },
  {
   "cell_type": "code",
   "execution_count": null,
   "id": "fe44f185-cf38-4c06-833a-60e57b2d6dbe",
   "metadata": {},
   "outputs": [],
   "source": [
    "fmt = '%Y-%m-%d %I:%M:%S %p %Z'\n",
    "print(tz_now.strftime(fmt))"
   ]
  },
  {
   "cell_type": "markdown",
   "id": "43c26f54-7e74-4a79-b903-65632733996a",
   "metadata": {},
   "source": [
    "## List all timezones using for loop"
   ]
  },
  {
   "cell_type": "code",
   "execution_count": null,
   "id": "e8fe6ac3-e6ff-4d52-b2da-16a543632a6c",
   "metadata": {},
   "outputs": [],
   "source": [
    "for tz in pytz.all_timezones:\n",
    "    print(f\"{tz}\")"
   ]
  },
  {
   "cell_type": "markdown",
   "id": "cfec54fe-49de-4783-8cce-bf48c20485d6",
   "metadata": {},
   "source": [
    "## Exercise #1: Display time in different timezones in one go\n",
    "\n",
    "Use the sample below, display the time in Hong Kong, London and New York\n",
    "\n",
    "The output should read\n",
    "```\n",
    "Hong Kong: 2024-03-18 12:52 PM\n",
    "London: 2024-03-18 12:52 PM\n",
    "New York: 2024-03-18 12:52 AM\n",
    "```"
   ]
  },
  {
   "cell_type": "code",
   "execution_count": null,
   "id": "eb4a2a3c-00bf-4052-b9f4-fbeb20275bba",
   "metadata": {},
   "outputs": [],
   "source": [
    "# Sample\n",
    "now = datetime.datetime.now()\n",
    "tz = pytz.timezone('America/New_York')\n",
    "tz_now = now.astimezone(tz)\n",
    "print(\"New York: \" + tz_now.strftime(fmt))"
   ]
  },
  {
   "cell_type": "markdown",
   "id": "3bb104ed-d219-47f1-b1a0-b65a36af03df",
   "metadata": {},
   "source": [
    "### Answer"
   ]
  },
  {
   "cell_type": "code",
   "execution_count": null,
   "id": "a9ce42f3-781a-49a2-be73-423f34d7fd2a",
   "metadata": {},
   "outputs": [],
   "source": [
    "now = datetime.datetime.now()\n",
    "\n",
    "tz = pytz.timezone('Asia/Hong_Kong')\n",
    "tz_now = now.astimezone(tz)\n",
    "print(\"Hong_Kong: \" + tz_now.strftime(fmt))\n",
    "\n",
    "# Sample\n",
    "tz = pytz.timezone('Europe/London')\n",
    "tz_now = now.astimezone(tz)\n",
    "print(\"London: \" + tz_now.strftime(fmt))\n",
    "\n",
    "# Sample\n",
    "tz = pytz.timezone('America/New_York')\n",
    "tz_now = now.astimezone(tz)\n",
    "print(\"New York: \" + tz_now.strftime(fmt))"
   ]
  },
  {
   "cell_type": "markdown",
   "id": "13dfb993-9e28-43ec-94a0-0d4fae94c8b1",
   "metadata": {},
   "source": [
    "## Exercise #2: Display HK time on OLED Display\n",
    "\n",
    "Modify the sample program below to display Hong Kong Time\n",
    "\n",
    "<img src=\"../images/worldclock_hktime.jpeg\" width=300/>"
   ]
  },
  {
   "cell_type": "code",
   "execution_count": null,
   "id": "af3bb306-2707-4982-9734-ee8165591c9a",
   "metadata": {},
   "outputs": [],
   "source": [
    "from luma.core.interface.serial import i2c\n",
    "from luma.core.render import canvas\n",
    "from luma.oled.device import sh1106\n",
    "from PIL import ImageFont\n",
    "\n",
    "serial = i2c(port=1, address=0x3C)\n",
    "\n",
    "device = sh1106(serial, persist=True)\n",
    "device.cleanup = None"
   ]
  },
  {
   "cell_type": "code",
   "execution_count": null,
   "id": "382f5af9-c65a-440e-9a30-a1d54b5bf4fc",
   "metadata": {},
   "outputs": [],
   "source": [
    "with canvas(device) as draw:\n",
    "    draw.text((0, 0), \"Hello World!\", fill=\"white\")"
   ]
  },
  {
   "cell_type": "markdown",
   "id": "5647a373-7840-4067-8e8f-9424cc52fb3a",
   "metadata": {},
   "source": [
    "### Answer"
   ]
  },
  {
   "cell_type": "code",
   "execution_count": null,
   "id": "5264c0f2-f3dd-4c76-aea3-f8868ae24922",
   "metadata": {},
   "outputs": [],
   "source": [
    "now = datetime.datetime.now()\n",
    "tz = pytz.timezone('Asia/Hong_Kong')\n",
    "tz_now = now.astimezone(tz)\n",
    "\n",
    "with canvas(device) as draw:\n",
    "    draw.text((0, 0), tz_now.strftime(fmt) , fill=\"white\")"
   ]
  },
  {
   "cell_type": "markdown",
   "id": "b70dc3e6-42b5-4518-b4a3-0b4450064347",
   "metadata": {},
   "source": [
    "## Exercise 3: Indentation and comment\n",
    "### Indentation\n",
    "- Use `tab` and `Shift + tab` to add and remove indentation. \n",
    "- You need to move the cursor to the start of the line"
   ]
  },
  {
   "cell_type": "markdown",
   "id": "6e127d0c-736f-4bae-a733-0a983eaf62c4",
   "metadata": {},
   "source": [
    "### Exercise 3.1\n",
    "\n",
    "<img src=\"../images/worldclock_indent_unindent.gif\" width=600/>"
   ]
  },
  {
   "cell_type": "code",
   "execution_count": null,
   "id": "5c10c698-2be2-4c10-996c-37c642284dc4",
   "metadata": {},
   "outputs": [],
   "source": [
    "tabMe = \"Please hit tab and Shift tab\""
   ]
  },
  {
   "cell_type": "markdown",
   "id": "0707b345-5922-49a4-b716-24bf8f7f3d19",
   "metadata": {},
   "source": [
    "### What is the difference between the output of the code below?"
   ]
  },
  {
   "cell_type": "code",
   "execution_count": 7,
   "id": "4442df2c-1bab-49ff-9a0b-93ae3189caab",
   "metadata": {},
   "outputs": [
    {
     "name": "stdout",
     "output_type": "stream",
     "text": [
      "x is bigger than 10\n",
      "x = 20\n"
     ]
    }
   ],
   "source": [
    "x = 20\n",
    "\n",
    "if x > 10:\n",
    "    print(\"x is bigger than 10\")\n",
    "else:\n",
    "    print(\"x is smaller than 10\")\n",
    "print(\"x = \" + str(x))"
   ]
  },
  {
   "cell_type": "code",
   "execution_count": 8,
   "id": "aa3187a2-5740-4e63-93a8-06109b0b95c8",
   "metadata": {},
   "outputs": [
    {
     "name": "stdout",
     "output_type": "stream",
     "text": [
      "x is bigger than 10\n"
     ]
    }
   ],
   "source": [
    "x = 20\n",
    "\n",
    "if x > 10:\n",
    "    print(\"x is bigger than 10\")\n",
    "else:\n",
    "    print(\"x is smaller than 10\")\n",
    "    print(\"x = \" + str(x))"
   ]
  },
  {
   "cell_type": "code",
   "execution_count": null,
   "id": "adc50c91-6546-4c59-96d0-9b7a333433fc",
   "metadata": {},
   "outputs": [],
   "source": [
    "# Indentation\n",
    "\n",
    "name = \"Jonathan\"\n",
    "\n",
    "if name == \"Jonathan\":\n",
    "    print(\"Jonathan\")\n",
    "    print(\"is very\")\n",
    "    print(\"smart\")\n",
    "else:\n",
    "    print(\"Not Jonathan\")"
   ]
  },
  {
   "cell_type": "markdown",
   "id": "cd0054be-ff00-478d-8b1f-84e9d87c977a",
   "metadata": {},
   "source": [
    "### Multiple level indentation"
   ]
  },
  {
   "cell_type": "code",
   "execution_count": 9,
   "id": "506a4085-af1f-41d0-8968-a33cdd649612",
   "metadata": {},
   "outputs": [
    {
     "name": "stdout",
     "output_type": "stream",
     "text": [
      "Outer loop iteration: 0\n",
      "  Inner loop iteration: 0\n",
      "    Deepest loop level: 0\n",
      "    Deepest loop level: 1\n",
      "  Inner loop iteration: 1\n",
      "    Deepest loop level: 0\n",
      "    Deepest loop level: 1\n",
      "  Inner loop iteration: 2\n",
      "    Deepest loop level: 0\n",
      "    Deepest loop level: 1\n",
      "Outer loop iteration: 1\n",
      "  Inner loop iteration: 0\n",
      "    Deepest loop level: 0\n",
      "    Deepest loop level: 1\n",
      "  Inner loop iteration: 1\n",
      "    Deepest loop level: 0\n",
      "    Deepest loop level: 1\n",
      "  Inner loop iteration: 2\n",
      "    Deepest loop level: 0\n",
      "    Deepest loop level: 1\n",
      "Outer loop iteration: 2\n",
      "  Inner loop iteration: 0\n",
      "    Deepest loop level: 0\n",
      "    Deepest loop level: 1\n",
      "  Inner loop iteration: 1\n",
      "    Deepest loop level: 0\n",
      "    Deepest loop level: 1\n",
      "  Inner loop iteration: 2\n",
      "    Deepest loop level: 0\n",
      "    Deepest loop level: 1\n",
      "Outer loop iteration: 3\n",
      "  Inner loop iteration: 0\n",
      "    Deepest loop level: 0\n",
      "    Deepest loop level: 1\n",
      "  Inner loop iteration: 1\n",
      "    Deepest loop level: 0\n",
      "    Deepest loop level: 1\n",
      "  Inner loop iteration: 2\n",
      "    Deepest loop level: 0\n",
      "    Deepest loop level: 1\n",
      "Outer loop iteration: 4\n",
      "  Inner loop iteration: 0\n",
      "    Deepest loop level: 0\n",
      "    Deepest loop level: 1\n",
      "  Inner loop iteration: 1\n",
      "    Deepest loop level: 0\n",
      "    Deepest loop level: 1\n",
      "  Inner loop iteration: 2\n",
      "    Deepest loop level: 0\n",
      "    Deepest loop level: 1\n"
     ]
    }
   ],
   "source": [
    "for i in range(5):  # First level of indentation\n",
    "    print(\"Outer loop iteration:\", i)\n",
    "    for j in range(3):  # Second level of indentation\n",
    "        print(\"  Inner loop iteration:\", j)\n",
    "        for k in range(2):  # Third level of indentation\n",
    "            print(\"    Deepest loop level:\", k)\n"
   ]
  },
  {
   "cell_type": "code",
   "execution_count": 10,
   "id": "cfe88adb-a6f4-4f64-a6a0-04c737e14f17",
   "metadata": {},
   "outputs": [
    {
     "name": "stdout",
     "output_type": "stream",
     "text": [
      "Outer loop iteration: 0\n",
      "Outer loop iteration: 1\n",
      "Outer loop iteration: 2\n",
      "Outer loop iteration: 3\n",
      "Outer loop iteration: 4\n",
      "  Inner loop iteration: 0\n",
      "  Inner loop iteration: 1\n",
      "  Inner loop iteration: 2\n",
      "    Deepest loop level: 0\n",
      "    Deepest loop level: 1\n"
     ]
    }
   ],
   "source": [
    "for i in range(5):  # First level of indentation\n",
    "    print(\"Outer loop iteration:\", i)\n",
    "    \n",
    "for j in range(3):  # Second level of indentation\n",
    "    print(\"  Inner loop iteration:\", j)\n",
    "    \n",
    "for k in range(2):  # Third level of indentation\n",
    "    print(\"    Deepest loop level:\", k)\n"
   ]
  },
  {
   "cell_type": "markdown",
   "id": "aaa35d58-7f3c-4674-8aa3-3afcd727820e",
   "metadata": {},
   "source": [
    "### Indentation mixed with defining function, loops and if statement"
   ]
  },
  {
   "cell_type": "code",
   "execution_count": 11,
   "id": "9eb182c0-82d4-4420-9247-3334332e92d1",
   "metadata": {},
   "outputs": [],
   "source": [
    "def process_items(items):\n",
    "    for item in items:  # First level of indentation\n",
    "        if item % 2 == 0:  # Second level of indentation\n",
    "            print(item, \"is even\")\n",
    "            for k in range(0, item, 2):  # Third level of indentation\n",
    "                print(\"  Value from 0 to\", item, \":\", k)\n",
    "        else:\n",
    "            print(item, \"is odd\")\n"
   ]
  },
  {
   "cell_type": "markdown",
   "id": "91cbfec2-38d6-4593-9860-c5aa51c3a144",
   "metadata": {},
   "source": [
    "### Comment\n",
    "\n",
    "### Exercise 3.2\n",
    "\n",
    "Toggle comment and uncomment the last line using `Ctrl + /`"
   ]
  },
  {
   "cell_type": "code",
   "execution_count": null,
   "id": "8b61121d-4578-4a95-b749-aa478f094271",
   "metadata": {},
   "outputs": [],
   "source": [
    "x = 10\n",
    "y = 20\n",
    "print(x + y)\n",
    "print(x - y)"
   ]
  },
  {
   "cell_type": "markdown",
   "id": "d67f74c7-78c9-4a8a-9e76-5bc5f61dfe48",
   "metadata": {},
   "source": [
    "### Multiple line indentation and comment\n",
    "\n",
    "Highlight multiple lines to indent or comment"
   ]
  },
  {
   "cell_type": "code",
   "execution_count": null,
   "id": "0ea30687-0732-40ed-9805-dfcf4254feb9",
   "metadata": {},
   "outputs": [],
   "source": [
    "# x = 10\n",
    "# y = 20\n",
    "print(x + y)\n",
    "print(x - y)"
   ]
  },
  {
   "cell_type": "markdown",
   "id": "d9be5bbd-22a0-4bf7-9bc8-d70dcc9baefc",
   "metadata": {},
   "source": [
    "## Exercise 4: Display multiple time on OLED screen\n",
    "\n",
    "Modify the sample program below to display HK, London and New York time\n",
    "\n",
    "<img src=\"../images/worldclock_alltime.jpeg\" width=300/>"
   ]
  },
  {
   "cell_type": "code",
   "execution_count": null,
   "id": "44e27903-54ba-406e-8692-3f8eebc373bf",
   "metadata": {},
   "outputs": [],
   "source": [
    "with canvas(device) as draw:\n",
    "    draw.text((0, 0), \"Hello World!\", fill=\"white\")\n",
    "    draw.text((0, 10), \"Hello World!\", fill=\"white\")\n",
    "    draw.text((0, 20), \"Hello World!\", fill=\"white\")"
   ]
  },
  {
   "cell_type": "markdown",
   "id": "037a0306-4935-4acf-8231-844ec4e13caf",
   "metadata": {},
   "source": [
    "### Answer"
   ]
  },
  {
   "cell_type": "code",
   "execution_count": null,
   "id": "9380110e-60c6-4228-be57-01982892fd86",
   "metadata": {},
   "outputs": [],
   "source": [
    "now = datetime.datetime.now()\n",
    "with canvas(device) as draw:\n",
    "    tz = pytz.timezone('Asia/Hong_Kong')\n",
    "    tz_now = now.astimezone(tz)\n",
    "    draw.text((0, 0), tz_now.strftime(fmt) , fill=\"white\")\n",
    "\n",
    "    tz = pytz.timezone('Europe/London')\n",
    "    tz_now = now.astimezone(tz)\n",
    "    draw.text((0, 10), tz_now.strftime(fmt) , fill=\"white\")\n",
    "\n",
    "    tz = pytz.timezone('America/New_York')\n",
    "    tz_now = now.astimezone(tz)\n",
    "    draw.text((0, 20), tz_now.strftime(fmt) , fill=\"white\")"
   ]
  },
  {
   "cell_type": "markdown",
   "id": "1a5c031f-e0c7-441f-8976-401ef05cf0bb",
   "metadata": {},
   "source": [
    "## Improvement #1 - UI/UX\n",
    "\n",
    "No one would know which time represent which region.\n",
    "\n",
    "Improve the program below to show the region name in front of the time like this?\n",
    "\n",
    "<img src=\"../images/worldclock_with_region.jpeg\" width=300/>"
   ]
  },
  {
   "cell_type": "code",
   "execution_count": null,
   "id": "ed8fe61c-ba6a-4293-96ae-3a2c5b5843b6",
   "metadata": {},
   "outputs": [],
   "source": [
    "now = datetime.datetime.now()\n",
    "with canvas(device) as draw:\n",
    "    tz = pytz.timezone('Asia/Hong_Kong')\n",
    "    tz_now = now.astimezone(tz)\n",
    "    draw.text((0, 0), tz_now.strftime(fmt) , fill=\"white\")\n",
    "\n",
    "    tz = pytz.timezone('Europe/London')\n",
    "    tz_now = now.astimezone(tz)\n",
    "    draw.text((0, 10), tz_now.strftime(fmt) , fill=\"white\")\n",
    "\n",
    "    tz = pytz.timezone('America/New_York')\n",
    "    tz_now = now.astimezone(tz)\n",
    "    draw.text((0, 20), tz_now.strftime(fmt) , fill=\"white\")"
   ]
  },
  {
   "cell_type": "code",
   "execution_count": null,
   "id": "eb2a85b0-0172-480b-887f-172a0d5c428b",
   "metadata": {},
   "outputs": [],
   "source": [
    "# Hint\n",
    "\n",
    "result = \"HK \" + \"2020-10-30 03:30\"\n",
    "print(result)"
   ]
  },
  {
   "cell_type": "markdown",
   "id": "7ec4a8c6-ccbc-48af-9183-d33fac8572ef",
   "metadata": {},
   "source": [
    "### Answer"
   ]
  },
  {
   "cell_type": "code",
   "execution_count": null,
   "id": "a8f3e4d8-e05f-4c7b-8b7e-75d3879dad5d",
   "metadata": {},
   "outputs": [],
   "source": [
    "now = datetime.datetime.now()\n",
    "\n",
    "with canvas(device) as draw:\n",
    "    tz = pytz.timezone('Asia/Hong_Kong')\n",
    "    tz_now = now.astimezone(tz)\n",
    "    result = \"HK: \" + tz_now.strftime(fmt)\n",
    "    draw.text((0, 0), result , fill=\"white\")\n",
    "\n",
    "    tz = pytz.timezone('Europe/London')\n",
    "    tz_now = now.astimezone(tz)\n",
    "    result = \"London: \" + tz_now.strftime(fmt)\n",
    "    draw.text((0, 10), result , fill=\"white\")\n",
    "\n",
    "    tz = pytz.timezone('America/New_York')\n",
    "    tz_now = now.astimezone(tz)\n",
    "    result = \"NY: \" + tz_now.strftime(fmt)\n",
    "    draw.text((0, 20), result , fill=\"white\")"
   ]
  },
  {
   "cell_type": "markdown",
   "id": "7a707f9c-1f47-4e4e-aa62-04d51a5df652",
   "metadata": {},
   "source": [
    "## Improvement #2 - UI/UX\n",
    "\n",
    "Further shorten the format so that it only show the time on the OLED\n",
    "\n",
    "Formatting code: https://www.w3schools.com/python/python_datetime.asp\n",
    "\n",
    "<img src=\"../images/worldclock_with_region_time.jpeg\" width=300/>"
   ]
  },
  {
   "cell_type": "code",
   "execution_count": null,
   "id": "06695eae-d55b-472c-ac57-787f4130df72",
   "metadata": {},
   "outputs": [],
   "source": [
    "fmt = '%Y-%m-%d %I:%M:%S %p'"
   ]
  },
  {
   "cell_type": "code",
   "execution_count": null,
   "id": "6154c330-e53a-4d57-86b9-6cc46c4172c6",
   "metadata": {},
   "outputs": [],
   "source": [
    "now = datetime.datetime.now()\n",
    "\n",
    "with canvas(device) as draw:\n",
    "    tz = pytz.timezone('Asia/Hong_Kong')\n",
    "    tz_now = now.astimezone(tz)\n",
    "    draw.text((0, 0), tz_now.strftime(fmt) , fill=\"white\")\n",
    "\n",
    "    tz = pytz.timezone('Europe/London')\n",
    "    tz_now = now.astimezone(tz)\n",
    "    draw.text((0, 10), tz_now.strftime(fmt) , fill=\"white\")\n",
    "\n",
    "    tz = pytz.timezone('America/New_York')\n",
    "    tz_now = now.astimezone(tz)\n",
    "    draw.text((0, 20), tz_now.strftime(fmt) , fill=\"white\")"
   ]
  },
  {
   "cell_type": "markdown",
   "id": "dc3168ed-9df7-4a56-b698-bc15abe5a080",
   "metadata": {},
   "source": [
    "### Answer"
   ]
  },
  {
   "cell_type": "code",
   "execution_count": null,
   "id": "350aceea-ca72-499c-a707-e3f606f2464f",
   "metadata": {},
   "outputs": [],
   "source": [
    "fmt = '%I:%M:%S %p'"
   ]
  },
  {
   "cell_type": "code",
   "execution_count": null,
   "id": "d43d5b4d-caab-4f24-b4a2-5f78bd279b7c",
   "metadata": {},
   "outputs": [],
   "source": [
    "now = datetime.datetime.now()\n",
    "tz = pytz.timezone('Asia/Hong_Kong')\n",
    "tz_now = now.astimezone(tz)\n",
    "\n",
    "with canvas(device) as draw:\n",
    "    tz = pytz.timezone('Asia/Hong_Kong')\n",
    "    tz_now = now.astimezone(tz)\n",
    "    result = \"HK: \" + tz_now.strftime(fmt)\n",
    "    draw.text((0, 0), result , fill=\"white\")\n",
    "\n",
    "    tz = pytz.timezone('Europe/London')\n",
    "    tz_now = now.astimezone(tz)\n",
    "    result = \"London: \" + tz_now.strftime(fmt)\n",
    "    draw.text((0, 10), result , fill=\"white\")\n",
    "\n",
    "    tz = pytz.timezone('America/New_York')\n",
    "    tz_now = now.astimezone(tz)\n",
    "    result = \"NY: \" + tz_now.strftime(fmt)\n",
    "    draw.text((0, 20), result , fill=\"white\")"
   ]
  },
  {
   "cell_type": "markdown",
   "id": "1fa7f6bd-5237-4f28-8da2-24249d8b23a6",
   "metadata": {},
   "source": [
    "## Improvement #3 - Refactoring"
   ]
  },
  {
   "cell_type": "markdown",
   "id": "8ed68957-c0de-4086-92c4-58518f28d1d4",
   "metadata": {},
   "source": [
    "Don't you think that the code is a bit repetitive?\n",
    "\n",
    "Can you think of a way to refactor the code so it looks less repetitive?\n",
    "\n",
    "The new program should be less than 20 lines\n",
    "\n",
    "Hints:\n",
    "1. Use a function to handle repetitive code"
   ]
  },
  {
   "cell_type": "code",
   "execution_count": null,
   "id": "25851baf-73d0-45e1-af71-88ef67c201fd",
   "metadata": {},
   "outputs": [],
   "source": [
    "now = datetime.datetime.now()\n",
    "\n",
    "with canvas(device) as draw:\n",
    "    tz = pytz.timezone('Asia/Hong_Kong')\n",
    "    tz_now = now.astimezone(tz)\n",
    "    result = \"HK: \" + tz_now.strftime(fmt)\n",
    "    draw.text((0, 0), result , fill=\"white\")\n",
    "\n",
    "    tz = pytz.timezone('Europe/London')\n",
    "    tz_now = now.astimezone(tz)\n",
    "    result = \"London: \" + tz_now.strftime(fmt)\n",
    "    draw.text((0, 10), result , fill=\"white\")\n",
    "\n",
    "    tz = pytz.timezone('America/New_York')\n",
    "    tz_now = now.astimezone(tz)\n",
    "    result = \"NY: \" + tz_now.strftime(fmt)\n",
    "    draw.text((0, 20), result , fill=\"white\")"
   ]
  },
  {
   "cell_type": "markdown",
   "id": "5b11848a-885c-4852-a9fe-01ff8830b0e5",
   "metadata": {},
   "source": [
    "### Answer"
   ]
  },
  {
   "cell_type": "code",
   "execution_count": null,
   "id": "67ab98fe-63e9-46bb-ab28-17b034ec49cb",
   "metadata": {},
   "outputs": [],
   "source": [
    "def display_time(position, timezone, region_name):\n",
    "    now = datetime.datetime.now()\n",
    "    tz = pytz.timezone(timezone)\n",
    "    tz_now = now.astimezone(tz)\n",
    "    result = f\"{region_name}: \" + tz_now.strftime(fmt)\n",
    "    draw.text(position, result , fill=\"white\")\n",
    "\n",
    "with canvas(device) as draw:    \n",
    "    display_time((0,0), 'Asia/Hong_Kong', \"HK\")\n",
    "    display_time((0,10), 'Europe/London', \"London\")\n",
    "    display_time((0,20), 'America/New_York', \"NY\")  "
   ]
  },
  {
   "cell_type": "markdown",
   "id": "23ad17e7-37c2-4918-a56e-16ff49efd260",
   "metadata": {},
   "source": [
    "## Improvement #4 - Keep the clock running\n",
    "\n",
    "How do we keep the clock running?\n",
    "\n",
    "<img src=\"../images/worldclock_running.gif\" width=300/>"
   ]
  },
  {
   "cell_type": "code",
   "execution_count": null,
   "id": "362377c4-b698-46ad-9920-81951ca891f4",
   "metadata": {},
   "outputs": [],
   "source": [
    "with canvas(device) as draw:    \n",
    "    display_time((0,0), 'Asia/Hong_Kong', \"HK\")\n",
    "    display_time((0,10), 'Europe/London', \"London\")\n",
    "    display_time((0,20), 'America/New_York', \"NY\")  "
   ]
  },
  {
   "cell_type": "markdown",
   "id": "09f1a783-0a9a-433f-9cb6-d23636cb5bce",
   "metadata": {},
   "source": [
    "### Answer"
   ]
  },
  {
   "cell_type": "code",
   "execution_count": null,
   "id": "ab14361f-11e0-4d05-a77a-fe7258c7b58b",
   "metadata": {},
   "outputs": [],
   "source": [
    "import time\n",
    "\n",
    "while True:\n",
    "    with canvas(device) as draw:\n",
    "        display_time((0,0), 'Asia/Hong_Kong', \"HK\")\n",
    "        display_time((0,10), 'Europe/London', \"London\")\n",
    "        display_time((0,20), 'America/New_York', \"NY\")  \n",
    "    time.sleep(1)"
   ]
  }
 ],
 "metadata": {
  "kernelspec": {
   "display_name": "Python 3 (ipykernel)",
   "language": "python",
   "name": "python3"
  },
  "language_info": {
   "codemirror_mode": {
    "name": "ipython",
    "version": 3
   },
   "file_extension": ".py",
   "mimetype": "text/x-python",
   "name": "python",
   "nbconvert_exporter": "python",
   "pygments_lexer": "ipython3",
   "version": "3.9.2"
  }
 },
 "nbformat": 4,
 "nbformat_minor": 5
}
