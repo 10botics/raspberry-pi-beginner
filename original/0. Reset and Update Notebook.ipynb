{
 "cells": [
  {
   "cell_type": "markdown",
   "id": "06baad23-df29-4741-b10b-61bef5ae55f8",
   "metadata": {},
   "source": [
    "# Reset and Update Notebook"
   ]
  },
  {
   "cell_type": "code",
   "execution_count": null,
   "id": "3e40ee49-4000-4088-8077-5537aff3cfe1",
   "metadata": {},
   "outputs": [],
   "source": [
    "git checkout ."
   ]
  },
  {
   "cell_type": "code",
   "execution_count": null,
   "id": "0d5a249b-c8cd-41e3-acc4-91185ce0db49",
   "metadata": {},
   "outputs": [],
   "source": [
    "git pull"
   ]
  }
 ],
 "metadata": {
  "kernelspec": {
   "display_name": "Python 3 (ipykernel)",
   "language": "python",
   "name": "python3"
  },
  "language_info": {
   "codemirror_mode": {
    "name": "ipython",
    "version": 3
   },
   "file_extension": ".py",
   "mimetype": "text/x-python",
   "name": "python",
   "nbconvert_exporter": "python",
   "pygments_lexer": "ipython3",
   "version": "3.9.2"
  }
 },
 "nbformat": 4,
 "nbformat_minor": 5
}
