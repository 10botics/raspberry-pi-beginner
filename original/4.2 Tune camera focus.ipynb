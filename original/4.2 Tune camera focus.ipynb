{
 "cells": [
  {
   "cell_type": "markdown",
   "id": "ae57605c-ef1b-4dcf-b3da-a355c6767485",
   "metadata": {},
   "source": [
    "# Tune camera focus"
   ]
  },
  {
   "cell_type": "markdown",
   "id": "b403e148-e298-473e-9458-dba76fddb35d",
   "metadata": {},
   "source": [
    "Your camera might not focus well. Turn the ring to adjust the focus\n",
    "\n",
    "https://www.youtube.com/watch?v=njbqPSWnuWw"
   ]
  },
  {
   "cell_type": "code",
   "execution_count": 1,
   "id": "a0c1a418-10c8-4c75-9bfd-2931f74219c6",
   "metadata": {
    "tags": []
   },
   "outputs": [
    {
     "data": {
      "application/vnd.jupyter.widget-view+json": {
       "model_id": "78f0e805199b47c9a28ba07193992e9a",
       "version_major": 2,
       "version_minor": 0
      },
      "text/plain": [
       "ToggleButton(value=False, button_style='danger', description='Stop', icon='square', tooltip='Description')"
      ]
     },
     "metadata": {},
     "output_type": "display_data"
    },
    {
     "data": {
      "text/plain": [
       "None"
      ]
     },
     "metadata": {},
     "output_type": "display_data"
    }
   ],
   "source": [
    "import matplotlib.pyplot as plt\n",
    "import cv2\n",
    "import numpy as np\n",
    "from IPython.display import display, Image\n",
    "\n",
    "import threading\n",
    "\n",
    "def setCaptureProperties(cap, width, height, fps):\n",
    "    # set the capture properties\n",
    "    cap.set(cv2.CAP_PROP_FRAME_WIDTH, width)\n",
    "    cap.set(cv2.CAP_PROP_FRAME_HEIGHT, height)\n",
    "    cap.set(cv2.CAP_PROP_FPS, fps)\n",
    "\n",
    "    \n",
    "def createStopButton():\n",
    "    import ipywidgets as widgets\n",
    "    return widgets.ToggleButton(\n",
    "        value=False,\n",
    "        description='Stop',\n",
    "        disabled=False,\n",
    "        button_style='danger', # 'success', 'info', 'warning', 'danger' or ''\n",
    "        tooltip='Description',\n",
    "        icon='square' # (FontAwesome names without the `fa-` prefix)\n",
    "    )\n",
    "    \n",
    "def view(button):\n",
    "    cap = cv2.VideoCapture(0)\n",
    "    \n",
    "    setCaptureProperties(cap, 640, 480, 30)\n",
    "\n",
    "    display_handle=display(None, display_id=True)\n",
    "    i = 0\n",
    "    while True:\n",
    "        ret, frame = cap.read()\n",
    "    \n",
    "        if ret:\n",
    "            frame = cv2.flip(frame, -1)\n",
    "            _, frame = cv2.imencode('.jpeg', frame)\n",
    "            display_handle.update(Image(data=frame.tobytes()))\n",
    "\n",
    "        if stopButton.value==True:\n",
    "            cap.release()\n",
    "            display_handle.update(None)\n",
    "\n",
    "            \n",
    "# Run\n",
    "# ================\n",
    "stopButton = createStopButton()\n",
    "display(stopButton)\n",
    "thread = threading.Thread(target=view, args=(stopButton,))\n",
    "thread.start()"
   ]
  }
 ],
 "metadata": {
  "kernelspec": {
   "display_name": "Python 3 (ipykernel)",
   "language": "python",
   "name": "python3"
  },
  "language_info": {
   "codemirror_mode": {
    "name": "ipython",
    "version": 3
   },
   "file_extension": ".py",
   "mimetype": "text/x-python",
   "name": "python",
   "nbconvert_exporter": "python",
   "pygments_lexer": "ipython3",
   "version": "3.9.2"
  }
 },
 "nbformat": 4,
 "nbformat_minor": 5
}
